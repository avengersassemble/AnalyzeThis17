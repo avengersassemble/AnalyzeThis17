{
 "cells": [
  {
   "cell_type": "code",
   "execution_count": 1,
   "metadata": {},
   "outputs": [
    {
     "name": "stderr",
     "output_type": "stream",
     "text": [
      "G:\\ana\\lib\\site-packages\\sklearn\\cross_validation.py:44: DeprecationWarning: This module was deprecated in version 0.18 in favor of the model_selection module into which all the refactored classes and functions are moved. Also note that the interface of the new CV iterators are different from that of this module. This module will be removed in 0.20.\n",
      "  \"This module will be removed in 0.20.\", DeprecationWarning)\n"
     ]
    }
   ],
   "source": [
    "import math\n",
    "import numpy as np\n",
    "import pandas as pd\n",
    "import matplotlib.pyplot as plt\n",
    "from pandas import DataFrame\n",
    "from sklearn import preprocessing\n",
    "from sklearn.linear_model import LogisticRegression\n",
    "from sklearn.cross_validation import train_test_split\n",
    "from numpy import loadtxt, where\n",
    "from pylab import scatter, show, legend, xlabel, ylabel\n",
    "from imblearn.under_sampling import InstanceHardnessThreshold\n",
    "from collections import Counter\n",
    "from imblearn.under_sampling import AllKNN\n",
    "from sklearn.datasets import make_classification\n",
    "from imblearn.under_sampling import ClusterCentroids \n",
    "from imblearn.under_sampling import NeighbourhoodCleaningRule \n",
    "from imblearn.over_sampling import SMOTE\n",
    "from imblearn.under_sampling import     OneSidedSelection \n",
    "from imblearn.under_sampling import TomekLinks \n",
    "import xgboost as xgb\n",
    "from sklearn import metrics\n",
    "from sklearn.cross_validation import cross_val_score"
   ]
  },
  {
   "cell_type": "code",
   "execution_count": 2,
   "metadata": {
    "collapsed": true
   },
   "outputs": [],
   "source": [
    "from xgboost.sklearn import XGBClassifier"
   ]
  },
  {
   "cell_type": "code",
   "execution_count": 3,
   "metadata": {
    "collapsed": true
   },
   "outputs": [],
   "source": [
    "from sklearn.model_selection import StratifiedKFold"
   ]
  },
  {
   "cell_type": "code",
   "execution_count": 4,
   "metadata": {
    "collapsed": true
   },
   "outputs": [],
   "source": [
    "from sklearn.model_selection import KFold\n",
    "from sklearn.model_selection import cross_val_score"
   ]
  },
  {
   "cell_type": "code",
   "execution_count": 5,
   "metadata": {
    "collapsed": true
   },
   "outputs": [],
   "source": [
    "from sklearn.metrics import accuracy_score"
   ]
  },
  {
   "cell_type": "code",
   "execution_count": 83,
   "metadata": {
    "collapsed": true
   },
   "outputs": [],
   "source": [
    "df = pd.read_csv(\"C:\\Users\\VARUN\\Downloads\\cvisheshtrain.csv\")"
   ]
  },
  {
   "cell_type": "code",
   "execution_count": 84,
   "metadata": {
    "collapsed": true
   },
   "outputs": [],
   "source": [
    "mvar12_dummy = pd.get_dummies(df['mvar12'])\n",
    "df =  pd.concat([df, mvar12_dummy], axis=1)\n",
    "del df['mvar12']\n",
    "del df['mvar1']"
   ]
  },
  {
   "cell_type": "code",
   "execution_count": 85,
   "metadata": {
    "collapsed": true
   },
   "outputs": [],
   "source": [
    "Y2 = df.loc[:, 'mvar49':'mvar51']"
   ]
  },
  {
   "cell_type": "code",
   "execution_count": 103,
   "metadata": {
    "collapsed": true
   },
   "outputs": [],
   "source": [
    "conditions = [\n",
    "    (Y2['mvar49'] == 1) ,\n",
    "    (Y2['mvar50'] == 1) ,\n",
    "    (Y2['mvar51'] == 1),\n",
    "    \n",
    "]\n",
    "choices = ['1', '2', '3']\n",
    "Y2['offer'] = np.select(conditions, choices,default=0)\n"
   ]
  },
  {
   "cell_type": "code",
   "execution_count": 87,
   "metadata": {
    "collapsed": true
   },
   "outputs": [],
   "source": [
    "del df['mvar49']\n",
    "del df['mvar50']\n",
    "del df['mvar51']"
   ]
  },
  {
   "cell_type": "code",
   "execution_count": 88,
   "metadata": {
    "collapsed": true
   },
   "outputs": [],
   "source": [
    "Y2_offer = Y2['offer']\n"
   ]
  },
  {
   "cell_type": "code",
   "execution_count": 267,
   "metadata": {
    "collapsed": true
   },
   "outputs": [],
   "source": [
    "train = pd.concat([df, Y2_offer], axis=1)\n",
    "\n",
    "\n",
    "\n"
   ]
  },
  {
   "cell_type": "code",
   "execution_count": 268,
   "metadata": {
    "collapsed": true
   },
   "outputs": [],
   "source": [
    "train.head()\n",
    "del train['mvar46']\n",
    "del train['mvar47']\n",
    "del train['mvar48']"
   ]
  },
  {
   "cell_type": "code",
   "execution_count": 269,
   "metadata": {
    "collapsed": true
   },
   "outputs": [],
   "source": [
    "train['offer'] = map(float,train['offer'])"
   ]
  },
  {
   "cell_type": "code",
   "execution_count": 270,
   "metadata": {},
   "outputs": [
    {
     "data": {
      "text/plain": [
       "Index([u'cm_key', u'mvar2', u'mvar3', u'mvar4', u'mvar5', u'mvar6', u'mvar7',\n",
       "       u'mvar8', u'mvar9', u'mvar10', u'mvar11', u'mvar13', u'mvar14',\n",
       "       u'mvar15', u'mvar16', u'mvar17', u'mvar18', u'mvar19', u'mvar20',\n",
       "       u'mvar21', u'mvar22', u'mvar23', u'mvar24', u'mvar25', u'mvar26',\n",
       "       u'mvar27', u'mvar28', u'mvar29', u'mvar30', u'mvar31', u'mvar32',\n",
       "       u'mvar33', u'mvar34', u'mvar35', u'mvar36', u'mvar37', u'mvar38',\n",
       "       u'mvar39', u'mvar40', u'mvar41', u'mvar42', u'mvar43', u'mvar44',\n",
       "       u'mvar45', u'Apparel', u'Automotive         ', u'Construction       ',\n",
       "       u'Consumables        ', u'Durable goods      ', u'Entertainment      ',\n",
       "       u'Finance            ', u'Household          ', u'Manufacturing      ',\n",
       "       u'Mining             ', u'Misc services      ', u'Non durable goods  ',\n",
       "       u'Office supplies    ', u'Personal services  ', u'Produce            ',\n",
       "       u'Social services    ', u'Transport          ', u'Unknown            ',\n",
       "       u'offer'],\n",
       "      dtype='object')"
      ]
     },
     "execution_count": 270,
     "metadata": {},
     "output_type": "execute_result"
    }
   ],
   "source": [
    "train.columns"
   ]
  },
  {
   "cell_type": "code",
   "execution_count": 271,
   "metadata": {
    "collapsed": true
   },
   "outputs": [],
   "source": [
    "target = 'offer'\n",
    "IDcol = 'cm_key'"
   ]
  },
  {
   "cell_type": "code",
   "execution_count": 93,
   "metadata": {
    "collapsed": true
   },
   "outputs": [],
   "source": [
    "#Import libraries:\n",
    "import pandas as pd\n",
    "import numpy as np\n",
    "import xgboost as xgb\n",
    "from xgboost.sklearn import XGBClassifier\n",
    "from sklearn import cross_validation, metrics   #Additional scklearn functions\n",
    "from sklearn.grid_search import GridSearchCV   #Perforing grid search\n",
    "\n",
    "import matplotlib.pylab as plt\n",
    "%matplotlib inline\n",
    "from matplotlib.pylab import rcParams\n",
    "rcParams['figure.figsize'] = 12, 4"
   ]
  },
  {
   "cell_type": "code",
   "execution_count": 136,
   "metadata": {
    "collapsed": true
   },
   "outputs": [],
   "source": [
    "def modelfit(alg, dtrain, predictors,useTrainCV=True, cv_folds=5, early_stopping_rounds=50):\n",
    "    \n",
    "    if useTrainCV:\n",
    "        xgb_param = alg.get_xgb_params()\n",
    "        xgb_param['num_class'] = 4\n",
    "        xgtrain = xgb.DMatrix(dtrain[predictors].values, label=dtrain[target].values)\n",
    "        cvresult = xgb.cv(xgb_param, xgtrain, num_boost_round=alg.get_params()['n_estimators'], nfold=cv_folds,\n",
    "            stratified= True,metrics='mlogloss', early_stopping_rounds=early_stopping_rounds)\n",
    "        alg.set_params(n_estimators=cvresult.shape[0])\n",
    "    \n",
    "    #Fit the algorithm on the data\n",
    "    alg.fit(dtrain[predictors], dtrain[target],eval_metric='auc')\n",
    "        \n",
    "    #Predict training set:\n",
    "    dtrain_predictions = alg.predict(dtrain[predictors])\n",
    "    dtrain_predprob = alg.predict_proba(dtrain[predictors])\n",
    "    #print dtrain_predprob\n",
    "        \n",
    "    #Print model report:\n",
    "    print \"\\nModel Report\"\n",
    "    print \"Accuracy : %.4g\" % metrics.accuracy_score(dtrain[target].values, dtrain_predictions)\n",
    "    print \"AUC Score (Train): %f\" % metrics.log_loss(Y2['offer'], dtrain_predprob)\n",
    "    print cvresult                \n",
    "    feat_imp = pd.Series(alg.booster().get_fscore()).sort_values(ascending=False)\n",
    "    feat_imp.plot(kind='bar', title='Feature Importances')\n",
    "    plt.ylabel('Feature Importance Score')"
   ]
  },
  {
   "cell_type": "code",
   "execution_count": 137,
   "metadata": {
    "collapsed": true
   },
   "outputs": [
    {
     "name": "stdout",
     "output_type": "stream",
     "text": [
      "\n",
      "Model Report\n",
      "Accuracy : 0.7959\n",
      "AUC Score (Train): 0.549128\n",
      "     test-mlogloss-mean  test-mlogloss-std  train-mlogloss-mean  \\\n",
      "0              1.286132           0.000336             1.285148   \n",
      "1              1.203327           0.000503             1.201343   \n",
      "2              1.134134           0.000546             1.131233   \n",
      "3              1.075360           0.000626             1.071593   \n",
      "4              1.025531           0.000558             1.020873   \n",
      "5              0.982803           0.000552             0.977199   \n",
      "6              0.945512           0.000752             0.939110   \n",
      "7              0.913349           0.001010             0.906098   \n",
      "8              0.885336           0.000882             0.877190   \n",
      "9              0.860895           0.000877             0.851889   \n",
      "10             0.839608           0.001146             0.829748   \n",
      "11             0.820865           0.001382             0.810221   \n",
      "12             0.804343           0.001503             0.792817   \n",
      "13             0.789928           0.001560             0.777491   \n",
      "14             0.777093           0.001590             0.763774   \n",
      "15             0.766028           0.001781             0.751796   \n",
      "16             0.756194           0.001743             0.741120   \n",
      "17             0.747518           0.001747             0.731529   \n",
      "18             0.739691           0.001801             0.722802   \n",
      "19             0.732935           0.001783             0.715095   \n",
      "20             0.726824           0.001830             0.708060   \n",
      "21             0.721475           0.001733             0.701805   \n",
      "22             0.716449           0.001886             0.695837   \n",
      "23             0.712228           0.001807             0.690560   \n",
      "24             0.708257           0.001810             0.685671   \n",
      "25             0.704895           0.002038             0.681318   \n",
      "26             0.702013           0.001996             0.677346   \n",
      "27             0.699252           0.002177             0.673575   \n",
      "28             0.696682           0.002224             0.669977   \n",
      "29             0.694207           0.002277             0.666541   \n",
      "..                  ...                ...                  ...   \n",
      "115            0.654401           0.003150             0.553963   \n",
      "116            0.654332           0.003197             0.553090   \n",
      "117            0.654358           0.003194             0.552312   \n",
      "118            0.654338           0.003198             0.551516   \n",
      "119            0.654323           0.003198             0.550812   \n",
      "120            0.654276           0.003196             0.550050   \n",
      "121            0.654192           0.003083             0.549224   \n",
      "122            0.654202           0.003066             0.548340   \n",
      "123            0.654201           0.003064             0.547541   \n",
      "124            0.654172           0.003104             0.546798   \n",
      "125            0.654061           0.003079             0.545993   \n",
      "126            0.654028           0.003120             0.545296   \n",
      "127            0.654036           0.003203             0.544539   \n",
      "128            0.654045           0.003178             0.543802   \n",
      "129            0.654027           0.003203             0.542920   \n",
      "130            0.653995           0.003208             0.542159   \n",
      "131            0.653952           0.003255             0.541489   \n",
      "132            0.653923           0.003263             0.540762   \n",
      "133            0.653911           0.003249             0.539995   \n",
      "134            0.653790           0.003268             0.539200   \n",
      "135            0.653760           0.003216             0.538402   \n",
      "136            0.653781           0.003216             0.537634   \n",
      "137            0.653840           0.003215             0.536839   \n",
      "138            0.653842           0.003267             0.535882   \n",
      "139            0.653806           0.003321             0.535114   \n",
      "140            0.653811           0.003364             0.534357   \n",
      "141            0.653812           0.003430             0.533624   \n",
      "142            0.653741           0.003451             0.532786   \n",
      "143            0.653733           0.003451             0.532073   \n",
      "144            0.653672           0.003473             0.531226   \n",
      "\n",
      "     train-mlogloss-std  \n",
      "0              0.000350  \n",
      "1              0.000543  \n",
      "2              0.000467  \n",
      "3              0.000619  \n",
      "4              0.000687  \n",
      "5              0.000676  \n",
      "6              0.000718  \n",
      "7              0.000739  \n",
      "8              0.000874  \n",
      "9              0.000867  \n",
      "10             0.000774  \n",
      "11             0.000665  \n",
      "12             0.000708  \n",
      "13             0.000767  \n",
      "14             0.000758  \n",
      "15             0.000601  \n",
      "16             0.000924  \n",
      "17             0.000862  \n",
      "18             0.000835  \n",
      "19             0.000885  \n",
      "20             0.001015  \n",
      "21             0.001159  \n",
      "22             0.001068  \n",
      "23             0.001070  \n",
      "24             0.001076  \n",
      "25             0.001003  \n",
      "26             0.001021  \n",
      "27             0.000943  \n",
      "28             0.001021  \n",
      "29             0.001051  \n",
      "..                  ...  \n",
      "115            0.001091  \n",
      "116            0.001203  \n",
      "117            0.001231  \n",
      "118            0.001257  \n",
      "119            0.001192  \n",
      "120            0.001144  \n",
      "121            0.001137  \n",
      "122            0.001177  \n",
      "123            0.001202  \n",
      "124            0.001197  \n",
      "125            0.001208  \n",
      "126            0.001197  \n",
      "127            0.001230  \n",
      "128            0.001129  \n",
      "129            0.001173  \n",
      "130            0.001214  \n",
      "131            0.001283  \n",
      "132            0.001262  \n",
      "133            0.001295  \n",
      "134            0.001311  \n",
      "135            0.001335  \n",
      "136            0.001444  \n",
      "137            0.001409  \n",
      "138            0.001376  \n",
      "139            0.001297  \n",
      "140            0.001331  \n",
      "141            0.001373  \n",
      "142            0.001395  \n",
      "143            0.001501  \n",
      "144            0.001477  \n",
      "\n",
      "[145 rows x 4 columns]\n"
     ]
    },
    {
     "data": {
      "image/png": "[encoded data removed]",
      "text/plain": [
       "<matplotlib.figure.Figure at 0xe485df0>"
      ]
     },
     "metadata": {},
     "output_type": "display_data"
    }
   ],
   "source": [
    "#Choose all predictors except target & IDcols\n",
    "predictors = [x for x in train.columns if x not in [target, IDcol]]\n",
    "xgb1 = XGBClassifier(\n",
    " learning_rate =0.1,\n",
    " n_estimators=1000,\n",
    " max_depth=5,\n",
    " min_child_weight=1,\n",
    " gamma=0,\n",
    " subsample=0.8,\n",
    " colsample_bytree=0.8,\n",
    " objective= 'multi:softprob',\n",
    " nthread=4,\n",
    " scale_pos_weight=1,\n",
    " seed=27)\n",
    "\n",
    "modelfit(xgb1, train, predictors)"
   ]
  },
  {
   "cell_type": "code",
   "execution_count": 138,
   "metadata": {},
   "outputs": [
    {
     "data": {
      "text/plain": [
       "([mean: -0.65548, std: 0.00342, params: {'max_depth': 3, 'min_child_weight': 1},\n",
       "  mean: -0.65567, std: 0.00333, params: {'max_depth': 3, 'min_child_weight': 3},\n",
       "  mean: -0.65544, std: 0.00348, params: {'max_depth': 3, 'min_child_weight': 5},\n",
       "  mean: -0.65230, std: 0.00338, params: {'max_depth': 5, 'min_child_weight': 1},\n",
       "  mean: -0.65205, std: 0.00340, params: {'max_depth': 5, 'min_child_weight': 3},\n",
       "  mean: -0.65192, std: 0.00363, params: {'max_depth': 5, 'min_child_weight': 5},\n",
       "  mean: -0.65712, std: 0.00482, params: {'max_depth': 7, 'min_child_weight': 1},\n",
       "  mean: -0.65700, std: 0.00625, params: {'max_depth': 7, 'min_child_weight': 3},\n",
       "  mean: -0.65563, std: 0.00517, params: {'max_depth': 7, 'min_child_weight': 5},\n",
       "  mean: -0.67193, std: 0.00701, params: {'max_depth': 9, 'min_child_weight': 1},\n",
       "  mean: -0.66770, std: 0.00541, params: {'max_depth': 9, 'min_child_weight': 3},\n",
       "  mean: -0.66435, std: 0.00598, params: {'max_depth': 9, 'min_child_weight': 5}],\n",
       " {'max_depth': 5, 'min_child_weight': 5},\n",
       " -0.6519244794534383)"
      ]
     },
     "execution_count": 138,
     "metadata": {},
     "output_type": "execute_result"
    }
   ],
   "source": [
    "param_test1 = {\n",
    " 'max_depth':range(3,10,2),\n",
    " 'min_child_weight':range(1,6,2)\n",
    "}\n",
    "gsearch1 = GridSearchCV(estimator = XGBClassifier( learning_rate =0.1, n_estimators=145, max_depth=5,\n",
    " min_child_weight=1, gamma=0, subsample=0.8, colsample_bytree=0.8,\n",
    " objective= 'multi:softprob', nthread=4, scale_pos_weight=1, seed=27), \n",
    " param_grid = param_test1, scoring='log_loss',n_jobs=4,iid=False, cv=5)\n",
    "gsearch1.fit(train[predictors],train[target])\n",
    "gsearch1.grid_scores_, gsearch1.best_params_, gsearch1.best_score_"
   ]
  },
  {
   "cell_type": "code",
   "execution_count": 139,
   "metadata": {},
   "outputs": [
    {
     "data": {
      "text/plain": [
       "([mean: -0.65298, std: 0.00374, params: {'max_depth': 4, 'min_child_weight': 4},\n",
       "  mean: -0.65284, std: 0.00371, params: {'max_depth': 4, 'min_child_weight': 5},\n",
       "  mean: -0.65309, std: 0.00318, params: {'max_depth': 4, 'min_child_weight': 6},\n",
       "  mean: -0.65197, std: 0.00330, params: {'max_depth': 5, 'min_child_weight': 4},\n",
       "  mean: -0.65192, std: 0.00363, params: {'max_depth': 5, 'min_child_weight': 5},\n",
       "  mean: -0.65176, std: 0.00359, params: {'max_depth': 5, 'min_child_weight': 6},\n",
       "  mean: -0.65320, std: 0.00451, params: {'max_depth': 6, 'min_child_weight': 4},\n",
       "  mean: -0.65313, std: 0.00468, params: {'max_depth': 6, 'min_child_weight': 5},\n",
       "  mean: -0.65337, std: 0.00450, params: {'max_depth': 6, 'min_child_weight': 6}],\n",
       " {'max_depth': 5, 'min_child_weight': 6},\n",
       " -0.6517594208595753)"
      ]
     },
     "execution_count": 139,
     "metadata": {},
     "output_type": "execute_result"
    }
   ],
   "source": [
    "# model1 = XGBClassifier()\n",
    "param_test2 = {\n",
    " 'max_depth':[4,5,6],\n",
    " 'min_child_weight':[4,5,6]\n",
    "}\n",
    "gsearch2 = GridSearchCV(estimator = XGBClassifier( learning_rate=0.1, n_estimators=145, max_depth=5,\n",
    " min_child_weight=2, gamma=0, subsample=0.8, colsample_bytree=0.8,\n",
    " objective= 'multi:softprob', nthread=4, scale_pos_weight=1,seed=27), \n",
    " param_grid = param_test2, scoring='log_loss',n_jobs=4,iid=False, cv=5)\n",
    "gsearch2.fit(train[predictors],train[target])\n",
    "gsearch2.grid_scores_, gsearch2.best_params_, gsearch2.best_score_"
   ]
  },
  {
   "cell_type": "code",
   "execution_count": 115,
   "metadata": {},
   "outputs": [
    {
     "data": {
      "text/plain": [
       "GridSearchCV(cv=5, error_score='raise',\n",
       "       estimator=XGBClassifier(base_score=0.5, colsample_bylevel=1, colsample_bytree=0.8,\n",
       "       gamma=0, learning_rate=0.1, max_delta_step=0, max_depth=5,\n",
       "       min_child_weight=2, missing=None, n_estimators=162, nthread=4,\n",
       "       objective='binary:logistic', reg_alpha=0, reg_lambda=1,\n",
       "       scale_pos_weight=1, seed=27, silent=True, subsample=0.8),\n",
       "       fit_params={}, iid=False, n_jobs=4,\n",
       "       param_grid={'min_child_weight': [6, 8, 10, 12]},\n",
       "       pre_dispatch='2*n_jobs', refit=True, scoring='log_loss', verbose=0)"
      ]
     },
     "execution_count": 115,
     "metadata": {},
     "output_type": "execute_result"
    }
   ],
   "source": [
    "# param_test2b = {\n",
    "#  'min_child_weight':[6,8,10,12]\n",
    "# }\n",
    "# gsearch2b = GridSearchCV(estimator = XGBClassifier( learning_rate=0.1, n_estimators=162, max_depth=5,\n",
    "#  min_child_weight=2, gamma=0, subsample=0.8, colsample_bytree=0.8,\n",
    "#  objective= 'multi:softprob', nthread=4, scale_pos_weight=1,seed=27), \n",
    "#  param_grid = param_test2b, scoring='log_loss',n_jobs=4,iid=False, cv=5)\n",
    "# gsearch2b.fit(train[predictors],train[target])"
   ]
  },
  {
   "cell_type": "code",
   "execution_count": 116,
   "metadata": {},
   "outputs": [
    {
     "data": {
      "text/plain": [
       "([mean: -0.47374, std: 0.00308, params: {'min_child_weight': 6},\n",
       "  mean: -0.47478, std: 0.00326, params: {'min_child_weight': 8},\n",
       "  mean: -0.47471, std: 0.00337, params: {'min_child_weight': 10},\n",
       "  mean: -0.47456, std: 0.00323, params: {'min_child_weight': 12}],\n",
       " {'min_child_weight': 6},\n",
       " -0.47373510851666606)"
      ]
     },
     "execution_count": 116,
     "metadata": {},
     "output_type": "execute_result"
    }
   ],
   "source": [
    "gsearch2b.grid_scores_, gsearch2b.best_params_, gsearch2b.best_score_"
   ]
  },
  {
   "cell_type": "code",
   "execution_count": 140,
   "metadata": {},
   "outputs": [
    {
     "data": {
      "text/plain": [
       "([mean: -0.65176, std: 0.00359, params: {'gamma': 0.0},\n",
       "  mean: -0.65189, std: 0.00336, params: {'gamma': 0.1},\n",
       "  mean: -0.65204, std: 0.00372, params: {'gamma': 0.2},\n",
       "  mean: -0.65201, std: 0.00344, params: {'gamma': 0.3},\n",
       "  mean: -0.65199, std: 0.00306, params: {'gamma': 0.4}],\n",
       " {'gamma': 0.0},\n",
       " -0.6517594208595753)"
      ]
     },
     "execution_count": 140,
     "metadata": {},
     "output_type": "execute_result"
    }
   ],
   "source": [
    "param_test3 = {\n",
    " 'gamma':[i/10.0 for i in range(0,5)]\n",
    "}\n",
    "gsearch3 = GridSearchCV(estimator = XGBClassifier( learning_rate =0.1, n_estimators=145, max_depth=5,\n",
    " min_child_weight=6, gamma=0, subsample=0.8, colsample_bytree=0.8,\n",
    " objective= 'multi:softprob', nthread=4, scale_pos_weight=1,seed=27), \n",
    " param_grid = param_test3, scoring='log_loss',n_jobs=4,iid=False, cv=5)\n",
    "gsearch3.fit(train[predictors],train[target])\n",
    "gsearch3.grid_scores_, gsearch3.best_params_, gsearch3.best_score_"
   ]
  },
  {
   "cell_type": "code",
   "execution_count": 141,
   "metadata": {
    "collapsed": true
   },
   "outputs": [
    {
     "name": "stdout",
     "output_type": "stream",
     "text": [
      "\n",
      "Model Report\n",
      "Accuracy : 0.7968\n",
      "AUC Score (Train): 0.546481\n",
      "     test-mlogloss-mean  test-mlogloss-std  train-mlogloss-mean  \\\n",
      "0              1.286124           0.000297             1.285239   \n",
      "1              1.203347           0.000492             1.201537   \n",
      "2              1.134151           0.000478             1.131496   \n",
      "3              1.075336           0.000548             1.071904   \n",
      "4              1.025475           0.000501             1.021232   \n",
      "5              0.982736           0.000473             0.977618   \n",
      "6              0.945446           0.000680             0.939588   \n",
      "7              0.913237           0.000963             0.906580   \n",
      "8              0.885170           0.000843             0.877742   \n",
      "9              0.860703           0.000828             0.852507   \n",
      "10             0.839439           0.001107             0.830397   \n",
      "11             0.820626           0.001402             0.810925   \n",
      "12             0.804065           0.001560             0.793590   \n",
      "13             0.789625           0.001636             0.778340   \n",
      "14             0.776778           0.001696             0.764675   \n",
      "15             0.765674           0.001824             0.752758   \n",
      "16             0.755810           0.001772             0.742140   \n",
      "17             0.747159           0.001787             0.732600   \n",
      "18             0.739374           0.001846             0.723928   \n",
      "19             0.732637           0.001846             0.716300   \n",
      "20             0.726554           0.001877             0.709351   \n",
      "21             0.721194           0.001762             0.703146   \n",
      "22             0.716149           0.001909             0.697259   \n",
      "23             0.711902           0.001880             0.692053   \n",
      "24             0.707896           0.001865             0.687244   \n",
      "25             0.704560           0.002103             0.682982   \n",
      "26             0.701634           0.002064             0.679099   \n",
      "27             0.698814           0.002213             0.675392   \n",
      "28             0.696241           0.002266             0.671912   \n",
      "29             0.693743           0.002334             0.668555   \n",
      "..                  ...                ...                  ...   \n",
      "142            0.653000           0.003352             0.546545   \n",
      "143            0.652933           0.003329             0.545941   \n",
      "144            0.652853           0.003416             0.545234   \n",
      "145            0.652775           0.003472             0.544565   \n",
      "146            0.652757           0.003419             0.543879   \n",
      "147            0.652779           0.003370             0.543316   \n",
      "148            0.652757           0.003403             0.542704   \n",
      "149            0.652750           0.003393             0.542061   \n",
      "150            0.652784           0.003404             0.541502   \n",
      "151            0.652746           0.003442             0.540773   \n",
      "152            0.652769           0.003348             0.540178   \n",
      "153            0.652743           0.003393             0.539436   \n",
      "154            0.652722           0.003405             0.538808   \n",
      "155            0.652774           0.003385             0.538158   \n",
      "156            0.652721           0.003376             0.537440   \n",
      "157            0.652701           0.003428             0.536884   \n",
      "158            0.652692           0.003442             0.536248   \n",
      "159            0.652650           0.003411             0.535656   \n",
      "160            0.652609           0.003375             0.534979   \n",
      "161            0.652657           0.003380             0.534396   \n",
      "162            0.652615           0.003412             0.533795   \n",
      "163            0.652603           0.003388             0.533248   \n",
      "164            0.652661           0.003428             0.532579   \n",
      "165            0.652690           0.003381             0.532002   \n",
      "166            0.652689           0.003403             0.531516   \n",
      "167            0.652591           0.003440             0.530912   \n",
      "168            0.652577           0.003441             0.530324   \n",
      "169            0.652612           0.003417             0.529574   \n",
      "170            0.652617           0.003354             0.528876   \n",
      "171            0.652570           0.003322             0.528232   \n",
      "\n",
      "     train-mlogloss-std  \n",
      "0              0.000354  \n",
      "1              0.000536  \n",
      "2              0.000461  \n",
      "3              0.000610  \n",
      "4              0.000659  \n",
      "5              0.000689  \n",
      "6              0.000717  \n",
      "7              0.000726  \n",
      "8              0.000876  \n",
      "9              0.000863  \n",
      "10             0.000788  \n",
      "11             0.000663  \n",
      "12             0.000682  \n",
      "13             0.000721  \n",
      "14             0.000719  \n",
      "15             0.000577  \n",
      "16             0.000909  \n",
      "17             0.000824  \n",
      "18             0.000780  \n",
      "19             0.000801  \n",
      "20             0.000917  \n",
      "21             0.001046  \n",
      "22             0.000962  \n",
      "23             0.000928  \n",
      "24             0.000967  \n",
      "25             0.000913  \n",
      "26             0.000917  \n",
      "27             0.000782  \n",
      "28             0.000860  \n",
      "29             0.000871  \n",
      "..                  ...  \n",
      "142            0.001449  \n",
      "143            0.001508  \n",
      "144            0.001569  \n",
      "145            0.001588  \n",
      "146            0.001540  \n",
      "147            0.001501  \n",
      "148            0.001467  \n",
      "149            0.001504  \n",
      "150            0.001483  \n",
      "151            0.001423  \n",
      "152            0.001420  \n",
      "153            0.001371  \n",
      "154            0.001322  \n",
      "155            0.001277  \n",
      "156            0.001251  \n",
      "157            0.001346  \n",
      "158            0.001325  \n",
      "159            0.001334  \n",
      "160            0.001350  \n",
      "161            0.001338  \n",
      "162            0.001206  \n",
      "163            0.001204  \n",
      "164            0.001147  \n",
      "165            0.001181  \n",
      "166            0.001211  \n",
      "167            0.001174  \n",
      "168            0.001246  \n",
      "169            0.001277  \n",
      "170            0.001244  \n",
      "171            0.001228  \n",
      "\n",
      "[172 rows x 4 columns]\n"
     ]
    },
    {
     "data": {
      "image/png": "[encoded data removed]",
      "text/plain": [
       "<matplotlib.figure.Figure at 0xb8c29d0>"
      ]
     },
     "metadata": {},
     "output_type": "display_data"
    }
   ],
   "source": [
    "xgb2 = XGBClassifier(\n",
    " learning_rate =0.1,\n",
    " n_estimators=1000,\n",
    " max_depth=5,\n",
    " min_child_weight=6,\n",
    " gamma=0,\n",
    " subsample=0.8,\n",
    " colsample_bytree=0.8,\n",
    " objective= 'multi:softprob',\n",
    " nthread=4,\n",
    " scale_pos_weight=1,\n",
    " seed=27)\n",
    "modelfit(xgb2, train, predictors)"
   ]
  },
  {
   "cell_type": "code",
   "execution_count": 142,
   "metadata": {},
   "outputs": [
    {
     "ename": "KeyboardInterrupt",
     "evalue": "",
     "output_type": "error",
     "traceback": [
      "\u001b[1;31m\u001b[0m",
      "\u001b[1;31mKeyboardInterrupt\u001b[0mTraceback (most recent call last)",
      "\u001b[1;32m<ipython-input-142-7eb5f2d51b2c>\u001b[0m in \u001b[0;36m<module>\u001b[1;34m()\u001b[0m\n\u001b[0;32m      7\u001b[0m  objective= 'multi:softprob', nthread=4, scale_pos_weight=1,seed=27), \n\u001b[0;32m      8\u001b[0m  param_grid = param_test4, scoring='log_loss',n_jobs=4,iid=False, cv=5)\n\u001b[1;32m----> 9\u001b[1;33m \u001b[0mgsearch4\u001b[0m\u001b[1;33m.\u001b[0m\u001b[0mfit\u001b[0m\u001b[1;33m(\u001b[0m\u001b[0mtrain\u001b[0m\u001b[1;33m[\u001b[0m\u001b[0mpredictors\u001b[0m\u001b[1;33m]\u001b[0m\u001b[1;33m,\u001b[0m\u001b[0mtrain\u001b[0m\u001b[1;33m[\u001b[0m\u001b[0mtarget\u001b[0m\u001b[1;33m]\u001b[0m\u001b[1;33m)\u001b[0m\u001b[1;33m\u001b[0m\u001b[0m\n\u001b[0m\u001b[0;32m     10\u001b[0m \u001b[0mgsearch4\u001b[0m\u001b[1;33m.\u001b[0m\u001b[0mgrid_scores_\u001b[0m\u001b[1;33m,\u001b[0m \u001b[0mgsearch4\u001b[0m\u001b[1;33m.\u001b[0m\u001b[0mbest_params_\u001b[0m\u001b[1;33m,\u001b[0m \u001b[0mgsearch4\u001b[0m\u001b[1;33m.\u001b[0m\u001b[0mbest_score_\u001b[0m\u001b[1;33m\u001b[0m\u001b[0m\n",
      "\u001b[1;32mG:\\ana\\lib\\site-packages\\sklearn\\grid_search.py\u001b[0m in \u001b[0;36mfit\u001b[1;34m(self, X, y)\u001b[0m\n\u001b[0;32m    827\u001b[0m \u001b[1;33m\u001b[0m\u001b[0m\n\u001b[0;32m    828\u001b[0m         \"\"\"\n\u001b[1;32m--> 829\u001b[1;33m         \u001b[1;32mreturn\u001b[0m \u001b[0mself\u001b[0m\u001b[1;33m.\u001b[0m\u001b[0m_fit\u001b[0m\u001b[1;33m(\u001b[0m\u001b[0mX\u001b[0m\u001b[1;33m,\u001b[0m \u001b[0my\u001b[0m\u001b[1;33m,\u001b[0m \u001b[0mParameterGrid\u001b[0m\u001b[1;33m(\u001b[0m\u001b[0mself\u001b[0m\u001b[1;33m.\u001b[0m\u001b[0mparam_grid\u001b[0m\u001b[1;33m)\u001b[0m\u001b[1;33m)\u001b[0m\u001b[1;33m\u001b[0m\u001b[0m\n\u001b[0m\u001b[0;32m    830\u001b[0m \u001b[1;33m\u001b[0m\u001b[0m\n\u001b[0;32m    831\u001b[0m \u001b[1;33m\u001b[0m\u001b[0m\n",
      "\u001b[1;32mG:\\ana\\lib\\site-packages\\sklearn\\grid_search.py\u001b[0m in \u001b[0;36m_fit\u001b[1;34m(self, X, y, parameter_iterable)\u001b[0m\n\u001b[0;32m    571\u001b[0m                                     \u001b[0mself\u001b[0m\u001b[1;33m.\u001b[0m\u001b[0mfit_params\u001b[0m\u001b[1;33m,\u001b[0m \u001b[0mreturn_parameters\u001b[0m\u001b[1;33m=\u001b[0m\u001b[0mTrue\u001b[0m\u001b[1;33m,\u001b[0m\u001b[1;33m\u001b[0m\u001b[0m\n\u001b[0;32m    572\u001b[0m                                     error_score=self.error_score)\n\u001b[1;32m--> 573\u001b[1;33m                 \u001b[1;32mfor\u001b[0m \u001b[0mparameters\u001b[0m \u001b[1;32min\u001b[0m \u001b[0mparameter_iterable\u001b[0m\u001b[1;33m\u001b[0m\u001b[0m\n\u001b[0m\u001b[0;32m    574\u001b[0m                 for train, test in cv)\n\u001b[0;32m    575\u001b[0m \u001b[1;33m\u001b[0m\u001b[0m\n",
      "\u001b[1;32mG:\\ana\\lib\\site-packages\\sklearn\\externals\\joblib\\parallel.pyc\u001b[0m in \u001b[0;36m__call__\u001b[1;34m(self, iterable)\u001b[0m\n\u001b[0;32m    766\u001b[0m                 \u001b[1;31m# consumption.\u001b[0m\u001b[1;33m\u001b[0m\u001b[1;33m\u001b[0m\u001b[0m\n\u001b[0;32m    767\u001b[0m                 \u001b[0mself\u001b[0m\u001b[1;33m.\u001b[0m\u001b[0m_iterating\u001b[0m \u001b[1;33m=\u001b[0m \u001b[0mFalse\u001b[0m\u001b[1;33m\u001b[0m\u001b[0m\n\u001b[1;32m--> 768\u001b[1;33m             \u001b[0mself\u001b[0m\u001b[1;33m.\u001b[0m\u001b[0mretrieve\u001b[0m\u001b[1;33m(\u001b[0m\u001b[1;33m)\u001b[0m\u001b[1;33m\u001b[0m\u001b[0m\n\u001b[0m\u001b[0;32m    769\u001b[0m             \u001b[1;31m# Make sure that we get a last message telling us we are done\u001b[0m\u001b[1;33m\u001b[0m\u001b[1;33m\u001b[0m\u001b[0m\n\u001b[0;32m    770\u001b[0m             \u001b[0melapsed_time\u001b[0m \u001b[1;33m=\u001b[0m \u001b[0mtime\u001b[0m\u001b[1;33m.\u001b[0m\u001b[0mtime\u001b[0m\u001b[1;33m(\u001b[0m\u001b[1;33m)\u001b[0m \u001b[1;33m-\u001b[0m \u001b[0mself\u001b[0m\u001b[1;33m.\u001b[0m\u001b[0m_start_time\u001b[0m\u001b[1;33m\u001b[0m\u001b[0m\n",
      "\u001b[1;32mG:\\ana\\lib\\site-packages\\sklearn\\externals\\joblib\\parallel.pyc\u001b[0m in \u001b[0;36mretrieve\u001b[1;34m(self)\u001b[0m\n\u001b[0;32m    717\u001b[0m                     \u001b[0mensure_ready\u001b[0m \u001b[1;33m=\u001b[0m \u001b[0mself\u001b[0m\u001b[1;33m.\u001b[0m\u001b[0m_managed_backend\u001b[0m\u001b[1;33m\u001b[0m\u001b[0m\n\u001b[0;32m    718\u001b[0m                     \u001b[0mbackend\u001b[0m\u001b[1;33m.\u001b[0m\u001b[0mabort_everything\u001b[0m\u001b[1;33m(\u001b[0m\u001b[0mensure_ready\u001b[0m\u001b[1;33m=\u001b[0m\u001b[0mensure_ready\u001b[0m\u001b[1;33m)\u001b[0m\u001b[1;33m\u001b[0m\u001b[0m\n\u001b[1;32m--> 719\u001b[1;33m                 \u001b[1;32mraise\u001b[0m \u001b[0mexception\u001b[0m\u001b[1;33m\u001b[0m\u001b[0m\n\u001b[0m\u001b[0;32m    720\u001b[0m \u001b[1;33m\u001b[0m\u001b[0m\n\u001b[0;32m    721\u001b[0m     \u001b[1;32mdef\u001b[0m \u001b[0m__call__\u001b[0m\u001b[1;33m(\u001b[0m\u001b[0mself\u001b[0m\u001b[1;33m,\u001b[0m \u001b[0miterable\u001b[0m\u001b[1;33m)\u001b[0m\u001b[1;33m:\u001b[0m\u001b[1;33m\u001b[0m\u001b[0m\n",
      "\u001b[1;31mKeyboardInterrupt\u001b[0m: "
     ]
    }
   ],
   "source": [
    "# param_test4 = {\n",
    "#  'subsample':[i/10.0 for i in range(6,10)],\n",
    "#  'colsample_bytree':[i/10.0 for i in range(6,10)]\n",
    "# }\n",
    "# gsearch4 = GridSearchCV(estimator = XGBClassifier( learning_rate =0.1, n_estimators=172, max_depth=5,\n",
    "#  min_child_weight=6, gamma=0, subsample=0.8, colsample_bytree=0.8,\n",
    "#  objective= 'multi:softprob', nthread=4, scale_pos_weight=1,seed=27), \n",
    "#  param_grid = param_test4, scoring='log_loss',n_jobs=4,iid=False, cv=5)\n",
    "# gsearch4.fit(train[predictors],train[target])\n",
    "# gsearch4.grid_scores_, gsearch4.best_params_, gsearch4.best_score_"
   ]
  },
  {
   "cell_type": "code",
   "execution_count": 143,
   "metadata": {},
   "outputs": [
    {
     "data": {
      "text/plain": [
       "GridSearchCV(cv=5, error_score='raise',\n",
       "       estimator=XGBClassifier(base_score=0.5, colsample_bylevel=1, colsample_bytree=0.8,\n",
       "       gamma=0, learning_rate=0.1, max_delta_step=0, max_depth=5,\n",
       "       min_child_weight=6, missing=None, n_estimators=172, nthread=4,\n",
       "       objective='multi:softprob', reg_alpha=0, reg_lambda=1,\n",
       "       scale_pos_weight=1, seed=27, silent=True, subsample=0.8),\n",
       "       fit_params={}, iid=False, n_jobs=4,\n",
       "       param_grid={'subsample': [0.75, 0.8, 0.85], 'colsample_bytree': [0.75, 0.8, 0.85]},\n",
       "       pre_dispatch='2*n_jobs', refit=True, scoring='log_loss', verbose=0)"
      ]
     },
     "execution_count": 143,
     "metadata": {},
     "output_type": "execute_result"
    }
   ],
   "source": [
    "param_test5 = {\n",
    " 'subsample':[i/100.0 for i in range(75,90,5)],\n",
    " 'colsample_bytree':[i/100.0 for i in range(75,90,5)]\n",
    "}\n",
    "gsearch5 = GridSearchCV(estimator = XGBClassifier( learning_rate =0.1, n_estimators=172, max_depth=5,\n",
    " min_child_weight=6, gamma=0, subsample=0.8, colsample_bytree=0.8,\n",
    " objective= 'multi:softprob', nthread=4, scale_pos_weight=1,seed=27), \n",
    " param_grid = param_test5, scoring='log_loss',n_jobs=4,iid=False, cv=5)\n",
    "gsearch5.fit(train[predictors],train[target])"
   ]
  },
  {
   "cell_type": "code",
   "execution_count": 144,
   "metadata": {},
   "outputs": [
    {
     "data": {
      "text/plain": [
       "([mean: -0.65196, std: 0.00419, params: {'subsample': 0.75, 'colsample_bytree': 0.75},\n",
       "  mean: -0.65224, std: 0.00371, params: {'subsample': 0.8, 'colsample_bytree': 0.75},\n",
       "  mean: -0.65262, std: 0.00429, params: {'subsample': 0.85, 'colsample_bytree': 0.75},\n",
       "  mean: -0.65099, std: 0.00435, params: {'subsample': 0.75, 'colsample_bytree': 0.8},\n",
       "  mean: -0.65205, std: 0.00385, params: {'subsample': 0.8, 'colsample_bytree': 0.8},\n",
       "  mean: -0.65265, std: 0.00422, params: {'subsample': 0.85, 'colsample_bytree': 0.8},\n",
       "  mean: -0.65187, std: 0.00445, params: {'subsample': 0.75, 'colsample_bytree': 0.85},\n",
       "  mean: -0.65202, std: 0.00377, params: {'subsample': 0.8, 'colsample_bytree': 0.85},\n",
       "  mean: -0.65262, std: 0.00444, params: {'subsample': 0.85, 'colsample_bytree': 0.85}],\n",
       " {'colsample_bytree': 0.8, 'subsample': 0.75},\n",
       " -0.6509881633047543)"
      ]
     },
     "execution_count": 144,
     "metadata": {},
     "output_type": "execute_result"
    }
   ],
   "source": [
    "gsearch5.grid_scores_, gsearch5.best_params_, gsearch5.best_score_\n"
   ]
  },
  {
   "cell_type": "code",
   "execution_count": 145,
   "metadata": {},
   "outputs": [
    {
     "data": {
      "text/plain": [
       "([mean: -0.65116, std: 0.00440, params: {'reg_alpha': 0.001},\n",
       "  mean: -0.65134, std: 0.00447, params: {'reg_alpha': 0.005},\n",
       "  mean: -0.65127, std: 0.00432, params: {'reg_alpha': 0.1},\n",
       "  mean: -0.65119, std: 0.00432, params: {'reg_alpha': 0.5},\n",
       "  mean: -0.65126, std: 0.00475, params: {'reg_alpha': 1},\n",
       "  mean: -0.65204, std: 0.00437, params: {'reg_alpha': 5}],\n",
       " {'reg_alpha': 0.001},\n",
       " -0.6511554581274862)"
      ]
     },
     "execution_count": 145,
     "metadata": {},
     "output_type": "execute_result"
    }
   ],
   "source": [
    "param_test6 = {\n",
    " 'reg_alpha':[ 0.001,0.005, 0.1,0.5, 1, 5]\n",
    "}\n",
    "gsearch6 = GridSearchCV(estimator = XGBClassifier( learning_rate =0.1, n_estimators=172, max_depth=5,\n",
    " min_child_weight=6, gamma=0.1, subsample=0.75, colsample_bytree=0.8,\n",
    " objective= 'multi:softprob', nthread=4, scale_pos_weight=1,seed=27), \n",
    " param_grid = param_test6, scoring='log_loss',n_jobs=4,iid=False, cv=5)\n",
    "gsearch6.fit(train[predictors],train[target])\n",
    "gsearch6.grid_scores_, gsearch6.best_params_, gsearch6.best_score_"
   ]
  },
  {
   "cell_type": "code",
   "execution_count": 124,
   "metadata": {},
   "outputs": [
    {
     "data": {
      "text/plain": [
       "([mean: -0.47448, std: 0.00340, params: {'reg_alpha': 0.001},\n",
       "  mean: -0.47399, std: 0.00359, params: {'reg_alpha': 0.005},\n",
       "  mean: -0.47403, std: 0.00322, params: {'reg_alpha': 0.1},\n",
       "  mean: -0.47399, std: 0.00341, params: {'reg_alpha': 0.5},\n",
       "  mean: -0.47405, std: 0.00360, params: {'reg_alpha': 1}],\n",
       " {'reg_alpha': 0.5},\n",
       " -0.47398558209845626)"
      ]
     },
     "execution_count": 124,
     "metadata": {},
     "output_type": "execute_result"
    }
   ],
   "source": [
    "# param_test7 = {\n",
    "#  'reg_alpha':[0.00010.0001,0.001]\n",
    "# }\n",
    "# gsearch7 = GridSearchCV(estimator = XGBClassifier( learning_rate =0.1, n_estimators=162, max_depth=5,\n",
    "#  min_child_weight=6, gamma=0.1, subsample=0.8, colsample_bytree=0.8,\n",
    "#  objective= 'multi:softprob', nthread=4, scale_pos_weight=1,seed=27), \n",
    "#  param_grid = param_test7, scoring='log_loss',n_jobs=4,iid=False, cv=5)\n",
    "# gsearch7.fit(train[predictors],train[target])\n",
    "# gsearch7.grid_scores_, gsearch7.best_params_, gsearch7.best_score_"
   ]
  },
  {
   "cell_type": "code",
   "execution_count": 272,
   "metadata": {
    "collapsed": true
   },
   "outputs": [
    {
     "name": "stdout",
     "output_type": "stream",
     "text": [
      "\n",
      "Model Report\n",
      "Accuracy : 0.7946\n",
      "AUC Score (Train): 0.551606\n",
      "     test-mlogloss-mean  test-mlogloss-std  train-mlogloss-mean  \\\n",
      "0              1.286219           0.000364             1.285284   \n",
      "1              1.203413           0.000500             1.201555   \n",
      "2              1.134171           0.000525             1.131472   \n",
      "3              1.075377           0.000679             1.071876   \n",
      "4              1.025565           0.000654             1.021246   \n",
      "5              0.982834           0.000587             0.977668   \n",
      "6              0.945503           0.000892             0.939664   \n",
      "7              0.913355           0.001153             0.906723   \n",
      "8              0.885236           0.001060             0.877855   \n",
      "9              0.860754           0.001056             0.852564   \n",
      "10             0.839522           0.001312             0.830495   \n",
      "11             0.820733           0.001592             0.811015   \n",
      "12             0.804192           0.001720             0.793700   \n",
      "13             0.789726           0.001753             0.778458   \n",
      "14             0.776873           0.001805             0.764790   \n",
      "15             0.765777           0.002009             0.752852   \n",
      "16             0.755955           0.001947             0.742223   \n",
      "17             0.747279           0.001889             0.732712   \n",
      "18             0.739448           0.001969             0.724032   \n",
      "19             0.732684           0.001888             0.716360   \n",
      "20             0.726500           0.001877             0.709355   \n",
      "21             0.721173           0.001820             0.703168   \n",
      "22             0.716219           0.001861             0.697299   \n",
      "23             0.711886           0.001801             0.692055   \n",
      "24             0.707933           0.001820             0.687201   \n",
      "25             0.704566           0.001917             0.682877   \n",
      "26             0.701679           0.001875             0.679005   \n",
      "27             0.698800           0.002079             0.675263   \n",
      "28             0.696222           0.002126             0.671784   \n",
      "29             0.693785           0.002213             0.668366   \n",
      "..                  ...                ...                  ...   \n",
      "130            0.652465           0.003799             0.554719   \n",
      "131            0.652470           0.003775             0.554102   \n",
      "132            0.652457           0.003809             0.553444   \n",
      "133            0.652444           0.003819             0.552728   \n",
      "134            0.652458           0.003849             0.552103   \n",
      "135            0.652483           0.003883             0.551473   \n",
      "136            0.652448           0.003875             0.550798   \n",
      "137            0.652418           0.003828             0.550120   \n",
      "138            0.652416           0.003829             0.549359   \n",
      "139            0.652445           0.003924             0.548655   \n",
      "140            0.652401           0.003955             0.548076   \n",
      "141            0.652435           0.003929             0.547411   \n",
      "142            0.652425           0.003886             0.546750   \n",
      "143            0.652417           0.003950             0.546180   \n",
      "144            0.652374           0.004034             0.545500   \n",
      "145            0.652324           0.003984             0.544910   \n",
      "146            0.652350           0.003951             0.544255   \n",
      "147            0.652364           0.003992             0.543724   \n",
      "148            0.652383           0.004006             0.543139   \n",
      "149            0.652365           0.003996             0.542342   \n",
      "150            0.652340           0.004002             0.541817   \n",
      "151            0.652347           0.004046             0.541181   \n",
      "152            0.652348           0.003982             0.540577   \n",
      "153            0.652317           0.004001             0.539872   \n",
      "154            0.652316           0.003994             0.539224   \n",
      "155            0.652351           0.004011             0.538538   \n",
      "156            0.652372           0.004036             0.537893   \n",
      "157            0.652342           0.004085             0.537279   \n",
      "158            0.652329           0.004095             0.536696   \n",
      "159            0.652295           0.004083             0.536010   \n",
      "\n",
      "     train-mlogloss-std  \n",
      "0              0.000354  \n",
      "1              0.000535  \n",
      "2              0.000414  \n",
      "3              0.000580  \n",
      "4              0.000574  \n",
      "5              0.000610  \n",
      "6              0.000631  \n",
      "7              0.000600  \n",
      "8              0.000708  \n",
      "9              0.000681  \n",
      "10             0.000623  \n",
      "11             0.000515  \n",
      "12             0.000509  \n",
      "13             0.000571  \n",
      "14             0.000551  \n",
      "15             0.000383  \n",
      "16             0.000713  \n",
      "17             0.000591  \n",
      "18             0.000623  \n",
      "19             0.000705  \n",
      "20             0.000841  \n",
      "21             0.000935  \n",
      "22             0.000928  \n",
      "23             0.000928  \n",
      "24             0.000945  \n",
      "25             0.000975  \n",
      "26             0.001035  \n",
      "27             0.000950  \n",
      "28             0.001062  \n",
      "29             0.001119  \n",
      "..                  ...  \n",
      "130            0.001250  \n",
      "131            0.001329  \n",
      "132            0.001217  \n",
      "133            0.001181  \n",
      "134            0.001158  \n",
      "135            0.001198  \n",
      "136            0.001192  \n",
      "137            0.001085  \n",
      "138            0.000972  \n",
      "139            0.000987  \n",
      "140            0.001061  \n",
      "141            0.001132  \n",
      "142            0.001187  \n",
      "143            0.001200  \n",
      "144            0.001237  \n",
      "145            0.001198  \n",
      "146            0.001199  \n",
      "147            0.001182  \n",
      "148            0.001170  \n",
      "149            0.001173  \n",
      "150            0.001180  \n",
      "151            0.001215  \n",
      "152            0.001173  \n",
      "153            0.001102  \n",
      "154            0.001076  \n",
      "155            0.001142  \n",
      "156            0.001142  \n",
      "157            0.001173  \n",
      "158            0.001172  \n",
      "159            0.001240  \n",
      "\n",
      "[160 rows x 4 columns]\n"
     ]
    },
    {
     "data": {
      "image/png": "[encoded data removed]",
      "text/plain": [
       "<matplotlib.figure.Figure at 0xaf70a50>"
      ]
     },
     "metadata": {},
     "output_type": "display_data"
    }
   ],
   "source": [
    "xgb3 = XGBClassifier(\n",
    " learning_rate =0.1,\n",
    " n_estimators=1000,\n",
    " max_depth=5,\n",
    " min_child_weight=6,\n",
    " gamma=0,\n",
    " subsample=0.75,\n",
    " colsample_bytree=0.8,\n",
    " reg_alpha=0.001,\n",
    " objective= 'multi:softprob',\n",
    " nthread=4,\n",
    " scale_pos_weight=1,\n",
    " seed=27)\n",
    "modelfit(xgb3, train, predictors)"
   ]
  },
  {
   "cell_type": "code",
   "execution_count": 127,
   "metadata": {
    "collapsed": true
   },
   "outputs": [
    {
     "name": "stdout",
     "output_type": "stream",
     "text": [
      "\n",
      "Model Report\n",
      "Accuracy : 0.8262\n",
      "AUC Score (Train): 0.393783\n",
      "      test-mlogloss-mean  test-mlogloss-std  train-mlogloss-mean  \\\n",
      "0               1.375094           0.000095             1.375018   \n",
      "1               1.364045           0.000127             1.363910   \n",
      "2               1.353336           0.000312             1.353127   \n",
      "3               1.342655           0.000320             1.342365   \n",
      "4               1.332206           0.000404             1.331851   \n",
      "5               1.322021           0.000450             1.321579   \n",
      "6               1.311987           0.000407             1.311476   \n",
      "7               1.302121           0.000403             1.301520   \n",
      "8               1.292396           0.000444             1.291704   \n",
      "9               1.282765           0.000452             1.281998   \n",
      "10              1.273372           0.000461             1.272539   \n",
      "11              1.264072           0.000462             1.263151   \n",
      "12              1.254879           0.000449             1.253882   \n",
      "13              1.245860           0.000447             1.244785   \n",
      "14              1.236994           0.000460             1.235837   \n",
      "15              1.228275           0.000494             1.227040   \n",
      "16              1.219733           0.000499             1.218418   \n",
      "17              1.211346           0.000540             1.209943   \n",
      "18              1.203074           0.000569             1.201577   \n",
      "19              1.194912           0.000559             1.193340   \n",
      "20              1.186889           0.000566             1.185239   \n",
      "21              1.178944           0.000570             1.177213   \n",
      "22              1.171193           0.000479             1.169379   \n",
      "23              1.163531           0.000520             1.161626   \n",
      "24              1.155996           0.000531             1.154018   \n",
      "25              1.148528           0.000554             1.146476   \n",
      "26              1.141227           0.000607             1.139100   \n",
      "27              1.134039           0.000648             1.131843   \n",
      "28              1.126934           0.000686             1.124678   \n",
      "29              1.119959           0.000719             1.117636   \n",
      "...                  ...                ...                  ...   \n",
      "1618            0.472979           0.003102             0.382996   \n",
      "1619            0.472982           0.003104             0.382947   \n",
      "1620            0.472981           0.003102             0.382890   \n",
      "1621            0.472974           0.003100             0.382829   \n",
      "1622            0.472973           0.003104             0.382770   \n",
      "1623            0.472972           0.003107             0.382710   \n",
      "1624            0.472977           0.003114             0.382646   \n",
      "1625            0.472974           0.003113             0.382591   \n",
      "1626            0.472973           0.003116             0.382538   \n",
      "1627            0.472973           0.003116             0.382485   \n",
      "1628            0.472976           0.003123             0.382425   \n",
      "1629            0.472976           0.003123             0.382365   \n",
      "1630            0.472982           0.003125             0.382310   \n",
      "1631            0.472981           0.003126             0.382253   \n",
      "1632            0.472976           0.003128             0.382193   \n",
      "1633            0.472977           0.003129             0.382132   \n",
      "1634            0.472975           0.003128             0.382071   \n",
      "1635            0.472973           0.003126             0.382007   \n",
      "1636            0.472971           0.003125             0.381945   \n",
      "1637            0.472972           0.003128             0.381880   \n",
      "1638            0.472967           0.003128             0.381825   \n",
      "1639            0.472969           0.003126             0.381761   \n",
      "1640            0.472969           0.003127             0.381706   \n",
      "1641            0.472966           0.003128             0.381646   \n",
      "1642            0.472967           0.003127             0.381585   \n",
      "1643            0.472960           0.003127             0.381530   \n",
      "1644            0.472958           0.003127             0.381473   \n",
      "1645            0.472960           0.003129             0.381412   \n",
      "1646            0.472959           0.003130             0.381355   \n",
      "1647            0.472958           0.003133             0.381293   \n",
      "\n",
      "      train-mlogloss-std  \n",
      "0               0.000099  \n",
      "1               0.000109  \n",
      "2               0.000280  \n",
      "3               0.000269  \n",
      "4               0.000350  \n",
      "5               0.000385  \n",
      "6               0.000316  \n",
      "7               0.000271  \n",
      "8               0.000309  \n",
      "9               0.000317  \n",
      "10              0.000298  \n",
      "11              0.000291  \n",
      "12              0.000255  \n",
      "13              0.000242  \n",
      "14              0.000241  \n",
      "15              0.000253  \n",
      "16              0.000235  \n",
      "17              0.000236  \n",
      "18              0.000240  \n",
      "19              0.000219  \n",
      "20              0.000242  \n",
      "21              0.000239  \n",
      "22              0.000154  \n",
      "23              0.000153  \n",
      "24              0.000214  \n",
      "25              0.000233  \n",
      "26              0.000273  \n",
      "27              0.000279  \n",
      "28              0.000362  \n",
      "29              0.000361  \n",
      "...                  ...  \n",
      "1618            0.000888  \n",
      "1619            0.000886  \n",
      "1620            0.000893  \n",
      "1621            0.000894  \n",
      "1622            0.000894  \n",
      "1623            0.000895  \n",
      "1624            0.000895  \n",
      "1625            0.000898  \n",
      "1626            0.000899  \n",
      "1627            0.000898  \n",
      "1628            0.000901  \n",
      "1629            0.000896  \n",
      "1630            0.000911  \n",
      "1631            0.000907  \n",
      "1632            0.000917  \n",
      "1633            0.000915  \n",
      "1634            0.000917  \n",
      "1635            0.000915  \n",
      "1636            0.000916  \n",
      "1637            0.000925  \n",
      "1638            0.000927  \n",
      "1639            0.000931  \n",
      "1640            0.000929  \n",
      "1641            0.000922  \n",
      "1642            0.000927  \n",
      "1643            0.000928  \n",
      "1644            0.000930  \n",
      "1645            0.000926  \n",
      "1646            0.000923  \n",
      "1647            0.000921  \n",
      "\n",
      "[1648 rows x 4 columns]\n"
     ]
    },
    {
     "data": {
      "image/png": "[encoded data removed]",
      "text/plain": [
       "<matplotlib.figure.Figure at 0xb02c530>"
      ]
     },
     "metadata": {},
     "output_type": "display_data"
    }
   ],
   "source": [
    "# xgb3 = XGBClassifier(\n",
    "#  learning_rate =0.01,\n",
    "#  n_estimators=5000,\n",
    "#  max_depth=5,\n",
    "#  min_child_weight=6,\n",
    "#  gamma=0,\n",
    "#  subsample=0.8,\n",
    "#  colsample_bytree=0.8,\n",
    "#  reg_alpha=0.5,\n",
    "#  objective= 'multi:softprob',\n",
    "#  nthread=4,\n",
    "#  scale_pos_weight=1,\n",
    "#  seed=27)\n",
    "# modelfit(xgb3, train, predictors)"
   ]
  },
  {
   "cell_type": "code",
   "execution_count": null,
   "metadata": {
    "collapsed": true
   },
   "outputs": [],
   "source": []
  },
  {
   "cell_type": "code",
   "execution_count": null,
   "metadata": {
    "collapsed": true
   },
   "outputs": [],
   "source": []
  },
  {
   "cell_type": "code",
   "execution_count": 415,
   "metadata": {
    "collapsed": true
   },
   "outputs": [],
   "source": [
    "test_df = pd.read_csv(\"C:\\Users\\VARUN\\Downloads\\cvisheshleader.csv\")\n",
    "# \"C:\\Users\\VARUN\\Desktop\\cFinal_Dataset.csv\"\n",
    "# test_df = pd.read_csv(\"C:\\Users\\VARUN\\Desktop\\cFinal_Dataset.csv\")"
   ]
  },
  {
   "cell_type": "code",
   "execution_count": 416,
   "metadata": {
    "collapsed": true
   },
   "outputs": [],
   "source": [
    "test_X = test_df.loc[:, 'mvar1':'mvar45']\n",
    "test_mvar12_dummy = pd.get_dummies(test_X['mvar12'])\n",
    "test_X =  pd.concat([test_X, test_mvar12_dummy], axis=1)\n",
    "del test_X['mvar12']\n",
    "del test_X['mvar1']"
   ]
  },
  {
   "cell_type": "code",
   "execution_count": 417,
   "metadata": {},
   "outputs": [
    {
     "data": {
      "text/html": [
       "<div>\n",
       "<style>\n",
       "    .dataframe thead tr:only-child th {\n",
       "        text-align: right;\n",
       "    }\n",
       "\n",
       "    .dataframe thead th {\n",
       "        text-align: left;\n",
       "    }\n",
       "\n",
       "    .dataframe tbody tr th {\n",
       "        vertical-align: top;\n",
       "    }\n",
       "</style>\n",
       "<table border=\"1\" class=\"dataframe\">\n",
       "  <thead>\n",
       "    <tr style=\"text-align: right;\">\n",
       "      <th></th>\n",
       "      <th>mvar2</th>\n",
       "      <th>mvar3</th>\n",
       "      <th>mvar4</th>\n",
       "      <th>mvar5</th>\n",
       "      <th>mvar6</th>\n",
       "      <th>mvar7</th>\n",
       "      <th>mvar8</th>\n",
       "      <th>mvar9</th>\n",
       "      <th>mvar10</th>\n",
       "      <th>mvar11</th>\n",
       "      <th>...</th>\n",
       "      <th>Manufacturing</th>\n",
       "      <th>Mining</th>\n",
       "      <th>Misc services</th>\n",
       "      <th>Non durable goods</th>\n",
       "      <th>Office supplies</th>\n",
       "      <th>Personal services</th>\n",
       "      <th>Produce</th>\n",
       "      <th>Social services</th>\n",
       "      <th>Transport</th>\n",
       "      <th>Unknown</th>\n",
       "    </tr>\n",
       "  </thead>\n",
       "  <tbody>\n",
       "    <tr>\n",
       "      <th>0</th>\n",
       "      <td>2</td>\n",
       "      <td>0</td>\n",
       "      <td>8</td>\n",
       "      <td>52</td>\n",
       "      <td>381</td>\n",
       "      <td>0.2490</td>\n",
       "      <td>0.1155</td>\n",
       "      <td>118845</td>\n",
       "      <td>0</td>\n",
       "      <td>5.6677</td>\n",
       "      <td>...</td>\n",
       "      <td>0</td>\n",
       "      <td>0</td>\n",
       "      <td>0</td>\n",
       "      <td>0</td>\n",
       "      <td>0</td>\n",
       "      <td>0</td>\n",
       "      <td>0</td>\n",
       "      <td>0</td>\n",
       "      <td>0</td>\n",
       "      <td>0</td>\n",
       "    </tr>\n",
       "    <tr>\n",
       "      <th>1</th>\n",
       "      <td>0</td>\n",
       "      <td>53460</td>\n",
       "      <td>2</td>\n",
       "      <td>56</td>\n",
       "      <td>872</td>\n",
       "      <td>0.5192</td>\n",
       "      <td>0.2682</td>\n",
       "      <td>475380</td>\n",
       "      <td>0</td>\n",
       "      <td>4.9459</td>\n",
       "      <td>...</td>\n",
       "      <td>0</td>\n",
       "      <td>0</td>\n",
       "      <td>0</td>\n",
       "      <td>0</td>\n",
       "      <td>0</td>\n",
       "      <td>0</td>\n",
       "      <td>0</td>\n",
       "      <td>0</td>\n",
       "      <td>0</td>\n",
       "      <td>0</td>\n",
       "    </tr>\n",
       "    <tr>\n",
       "      <th>2</th>\n",
       "      <td>0</td>\n",
       "      <td>109058</td>\n",
       "      <td>4</td>\n",
       "      <td>63</td>\n",
       "      <td>1253</td>\n",
       "      <td>0.7969</td>\n",
       "      <td>0.1155</td>\n",
       "      <td>172780</td>\n",
       "      <td>0</td>\n",
       "      <td>5.8674</td>\n",
       "      <td>...</td>\n",
       "      <td>0</td>\n",
       "      <td>0</td>\n",
       "      <td>0</td>\n",
       "      <td>0</td>\n",
       "      <td>0</td>\n",
       "      <td>0</td>\n",
       "      <td>0</td>\n",
       "      <td>1</td>\n",
       "      <td>0</td>\n",
       "      <td>0</td>\n",
       "    </tr>\n",
       "    <tr>\n",
       "      <th>3</th>\n",
       "      <td>0</td>\n",
       "      <td>53460</td>\n",
       "      <td>4</td>\n",
       "      <td>44</td>\n",
       "      <td>381</td>\n",
       "      <td>0.0155</td>\n",
       "      <td>0.0000</td>\n",
       "      <td>2918974</td>\n",
       "      <td>0</td>\n",
       "      <td>1.0798</td>\n",
       "      <td>...</td>\n",
       "      <td>0</td>\n",
       "      <td>0</td>\n",
       "      <td>0</td>\n",
       "      <td>0</td>\n",
       "      <td>0</td>\n",
       "      <td>0</td>\n",
       "      <td>0</td>\n",
       "      <td>0</td>\n",
       "      <td>0</td>\n",
       "      <td>1</td>\n",
       "    </tr>\n",
       "    <tr>\n",
       "      <th>4</th>\n",
       "      <td>1</td>\n",
       "      <td>183546</td>\n",
       "      <td>5</td>\n",
       "      <td>250</td>\n",
       "      <td>1842</td>\n",
       "      <td>0.7366</td>\n",
       "      <td>0.0000</td>\n",
       "      <td>2918974</td>\n",
       "      <td>1</td>\n",
       "      <td>5.9691</td>\n",
       "      <td>...</td>\n",
       "      <td>0</td>\n",
       "      <td>0</td>\n",
       "      <td>0</td>\n",
       "      <td>0</td>\n",
       "      <td>0</td>\n",
       "      <td>0</td>\n",
       "      <td>0</td>\n",
       "      <td>0</td>\n",
       "      <td>0</td>\n",
       "      <td>0</td>\n",
       "    </tr>\n",
       "  </tbody>\n",
       "</table>\n",
       "<p>5 rows × 61 columns</p>\n",
       "</div>"
      ],
      "text/plain": [
       "   mvar2   mvar3  mvar4  mvar5  mvar6   mvar7   mvar8    mvar9  mvar10  \\\n",
       "0      2       0      8     52    381  0.2490  0.1155   118845       0   \n",
       "1      0   53460      2     56    872  0.5192  0.2682   475380       0   \n",
       "2      0  109058      4     63   1253  0.7969  0.1155   172780       0   \n",
       "3      0   53460      4     44    381  0.0155  0.0000  2918974       0   \n",
       "4      1  183546      5    250   1842  0.7366  0.0000  2918974       1   \n",
       "\n",
       "   mvar11         ...           Manufacturing        Mining               \\\n",
       "0  5.6677         ...                             0                    0   \n",
       "1  4.9459         ...                             0                    0   \n",
       "2  5.8674         ...                             0                    0   \n",
       "3  1.0798         ...                             0                    0   \n",
       "4  5.9691         ...                             0                    0   \n",
       "\n",
       "   Misc services        Non durable goods    Office supplies      \\\n",
       "0                    0                    0                    0   \n",
       "1                    0                    0                    0   \n",
       "2                    0                    0                    0   \n",
       "3                    0                    0                    0   \n",
       "4                    0                    0                    0   \n",
       "\n",
       "   Personal services    Produce              Social services      \\\n",
       "0                    0                    0                    0   \n",
       "1                    0                    0                    0   \n",
       "2                    0                    0                    1   \n",
       "3                    0                    0                    0   \n",
       "4                    0                    0                    0   \n",
       "\n",
       "   Transport            Unknown              \n",
       "0                    0                    0  \n",
       "1                    0                    0  \n",
       "2                    0                    0  \n",
       "3                    0                    1  \n",
       "4                    0                    0  \n",
       "\n",
       "[5 rows x 61 columns]"
      ]
     },
     "execution_count": 417,
     "metadata": {},
     "output_type": "execute_result"
    }
   ],
   "source": [
    "test_X.head()"
   ]
  },
  {
   "cell_type": "code",
   "execution_count": 418,
   "metadata": {
    "collapsed": true
   },
   "outputs": [],
   "source": [
    "trainX = train"
   ]
  },
  {
   "cell_type": "code",
   "execution_count": 419,
   "metadata": {},
   "outputs": [
    {
     "data": {
      "text/plain": [
       "Index([u'mvar2', u'mvar3', u'mvar4', u'mvar5', u'mvar6', u'mvar7', u'mvar8',\n",
       "       u'mvar9', u'mvar10', u'mvar11', u'mvar13', u'mvar14', u'mvar15',\n",
       "       u'mvar16', u'mvar17', u'mvar18', u'mvar19', u'mvar20', u'mvar21',\n",
       "       u'mvar22', u'mvar23', u'mvar24', u'mvar25', u'mvar26', u'mvar27',\n",
       "       u'mvar28', u'mvar29', u'mvar30', u'mvar31', u'mvar32', u'mvar33',\n",
       "       u'mvar34', u'mvar35', u'mvar36', u'mvar37', u'mvar38', u'mvar39',\n",
       "       u'mvar40', u'mvar41', u'mvar42', u'mvar43', u'mvar44', u'mvar45',\n",
       "       u'Apparel', u'Automotive         ', u'Construction       ',\n",
       "       u'Consumables        ', u'Durable goods      ', u'Entertainment      ',\n",
       "       u'Finance            ', u'Household          ', u'Manufacturing      ',\n",
       "       u'Mining             ', u'Misc services      ', u'Non durable goods  ',\n",
       "       u'Office supplies    ', u'Personal services  ', u'Produce            ',\n",
       "       u'Social services    ', u'Transport          ', u'Unknown            '],\n",
       "      dtype='object')"
      ]
     },
     "execution_count": 419,
     "metadata": {},
     "output_type": "execute_result"
    }
   ],
   "source": [
    "trainX.columns"
   ]
  },
  {
   "cell_type": "code",
   "execution_count": 420,
   "metadata": {
    "collapsed": true
   },
   "outputs": [],
   "source": [
    "# del trainX['cm_key']"
   ]
  },
  {
   "cell_type": "code",
   "execution_count": 421,
   "metadata": {
    "collapsed": true
   },
   "outputs": [],
   "source": [
    "# del trainX['offer']"
   ]
  },
  {
   "cell_type": "code",
   "execution_count": 422,
   "metadata": {
    "collapsed": true
   },
   "outputs": [],
   "source": [
    "# trainX.columns"
   ]
  },
  {
   "cell_type": "code",
   "execution_count": null,
   "metadata": {
    "collapsed": true,
    "scrolled": true
   },
   "outputs": [],
   "source": [
    "# Y2_offer.head()"
   ]
  },
  {
   "cell_type": "code",
   "execution_count": null,
   "metadata": {
    "collapsed": true
   },
   "outputs": [],
   "source": [
    "xgb3 = XGBClassifier(\n",
    " learning_rate =0.01,\n",
    " n_estimators=1778,\n",
    " max_depth=5,\n",
    " min_child_weight=6,\n",
    " gamma=0,\n",
    " subsample=0.75,\n",
    " colsample_bytree=0.8,\n",
    " reg_alpha=0.001,\n",
    " objective= 'multi:softprob',\n",
    " nthread=4,\n",
    " scale_pos_weight=1,\n",
    " seed=27)\n",
    "\n",
    "\n",
    "\n",
    "\n",
    "predicted49 = xgb3.fit(train,Y2_offer)\n"
   ]
  },
  {
   "cell_type": "code",
   "execution_count": null,
   "metadata": {
    "collapsed": true
   },
   "outputs": [],
   "source": [
    "# xgb3 = XGBClassifier(\n",
    "#  learning_rate =0.1,\n",
    "#  n_estimators=159,\n",
    "#  max_depth=5,\n",
    "#  min_child_weight=6,\n",
    "#  gamma=0,\n",
    "#  subsample=0.75,\n",
    "#  colsample_bytree=0.8,\n",
    "#  reg_alpha=0.001,\n",
    "#  objective= 'multi:softprob',\n",
    "#  nthread=4,\n",
    "#  scale_pos_weight=1,\n",
    "#  seed=27)\n",
    "\n",
    "\n",
    "\n",
    "\n",
    "# predicted49 = xgb3.fit(trainX,Y2_offer)\n"
   ]
  },
  {
   "cell_type": "code",
   "execution_count": 423,
   "metadata": {
    "collapsed": true
   },
   "outputs": [],
   "source": [
    "prediction = xgb3.predict(test_X)"
   ]
  },
  {
   "cell_type": "code",
   "execution_count": 424,
   "metadata": {},
   "outputs": [
    {
     "data": {
      "text/html": [
       "<div>\n",
       "<style>\n",
       "    .dataframe thead tr:only-child th {\n",
       "        text-align: right;\n",
       "    }\n",
       "\n",
       "    .dataframe thead th {\n",
       "        text-align: left;\n",
       "    }\n",
       "\n",
       "    .dataframe tbody tr th {\n",
       "        vertical-align: top;\n",
       "    }\n",
       "</style>\n",
       "<table border=\"1\" class=\"dataframe\">\n",
       "  <thead>\n",
       "    <tr style=\"text-align: right;\">\n",
       "      <th></th>\n",
       "      <th>mvar2</th>\n",
       "      <th>mvar3</th>\n",
       "      <th>mvar4</th>\n",
       "      <th>mvar5</th>\n",
       "      <th>mvar6</th>\n",
       "      <th>mvar7</th>\n",
       "      <th>mvar8</th>\n",
       "      <th>mvar9</th>\n",
       "      <th>mvar10</th>\n",
       "      <th>mvar11</th>\n",
       "      <th>...</th>\n",
       "      <th>Manufacturing</th>\n",
       "      <th>Mining</th>\n",
       "      <th>Misc services</th>\n",
       "      <th>Non durable goods</th>\n",
       "      <th>Office supplies</th>\n",
       "      <th>Personal services</th>\n",
       "      <th>Produce</th>\n",
       "      <th>Social services</th>\n",
       "      <th>Transport</th>\n",
       "      <th>Unknown</th>\n",
       "    </tr>\n",
       "  </thead>\n",
       "  <tbody>\n",
       "    <tr>\n",
       "      <th>0</th>\n",
       "      <td>0</td>\n",
       "      <td>106920</td>\n",
       "      <td>4</td>\n",
       "      <td>18</td>\n",
       "      <td>970</td>\n",
       "      <td>0.7969</td>\n",
       "      <td>0.1831</td>\n",
       "      <td>337236</td>\n",
       "      <td>1</td>\n",
       "      <td>6.0899</td>\n",
       "      <td>...</td>\n",
       "      <td>0</td>\n",
       "      <td>0</td>\n",
       "      <td>0</td>\n",
       "      <td>0</td>\n",
       "      <td>1</td>\n",
       "      <td>0</td>\n",
       "      <td>0</td>\n",
       "      <td>0</td>\n",
       "      <td>0</td>\n",
       "      <td>0</td>\n",
       "    </tr>\n",
       "    <tr>\n",
       "      <th>1</th>\n",
       "      <td>2</td>\n",
       "      <td>0</td>\n",
       "      <td>4</td>\n",
       "      <td>19</td>\n",
       "      <td>1030</td>\n",
       "      <td>0.0678</td>\n",
       "      <td>0.0000</td>\n",
       "      <td>2918974</td>\n",
       "      <td>1</td>\n",
       "      <td>4.2016</td>\n",
       "      <td>...</td>\n",
       "      <td>0</td>\n",
       "      <td>0</td>\n",
       "      <td>0</td>\n",
       "      <td>0</td>\n",
       "      <td>0</td>\n",
       "      <td>0</td>\n",
       "      <td>0</td>\n",
       "      <td>0</td>\n",
       "      <td>0</td>\n",
       "      <td>1</td>\n",
       "    </tr>\n",
       "    <tr>\n",
       "      <th>2</th>\n",
       "      <td>2</td>\n",
       "      <td>399168</td>\n",
       "      <td>4</td>\n",
       "      <td>35</td>\n",
       "      <td>327</td>\n",
       "      <td>0.7551</td>\n",
       "      <td>0.2986</td>\n",
       "      <td>498656</td>\n",
       "      <td>0</td>\n",
       "      <td>3.3760</td>\n",
       "      <td>...</td>\n",
       "      <td>0</td>\n",
       "      <td>0</td>\n",
       "      <td>1</td>\n",
       "      <td>0</td>\n",
       "      <td>0</td>\n",
       "      <td>0</td>\n",
       "      <td>0</td>\n",
       "      <td>0</td>\n",
       "      <td>0</td>\n",
       "      <td>0</td>\n",
       "    </tr>\n",
       "    <tr>\n",
       "      <th>3</th>\n",
       "      <td>0</td>\n",
       "      <td>267300</td>\n",
       "      <td>4</td>\n",
       "      <td>274</td>\n",
       "      <td>1258</td>\n",
       "      <td>0.7969</td>\n",
       "      <td>0.5297</td>\n",
       "      <td>2480074</td>\n",
       "      <td>1</td>\n",
       "      <td>4.1082</td>\n",
       "      <td>...</td>\n",
       "      <td>0</td>\n",
       "      <td>0</td>\n",
       "      <td>0</td>\n",
       "      <td>0</td>\n",
       "      <td>0</td>\n",
       "      <td>0</td>\n",
       "      <td>0</td>\n",
       "      <td>1</td>\n",
       "      <td>0</td>\n",
       "      <td>0</td>\n",
       "    </tr>\n",
       "    <tr>\n",
       "      <th>4</th>\n",
       "      <td>0</td>\n",
       "      <td>213840</td>\n",
       "      <td>6</td>\n",
       "      <td>1</td>\n",
       "      <td>0</td>\n",
       "      <td>2.3238</td>\n",
       "      <td>0.0000</td>\n",
       "      <td>2918974</td>\n",
       "      <td>0</td>\n",
       "      <td>0.0000</td>\n",
       "      <td>...</td>\n",
       "      <td>0</td>\n",
       "      <td>0</td>\n",
       "      <td>0</td>\n",
       "      <td>0</td>\n",
       "      <td>0</td>\n",
       "      <td>0</td>\n",
       "      <td>0</td>\n",
       "      <td>0</td>\n",
       "      <td>0</td>\n",
       "      <td>1</td>\n",
       "    </tr>\n",
       "  </tbody>\n",
       "</table>\n",
       "<p>5 rows × 61 columns</p>\n",
       "</div>"
      ],
      "text/plain": [
       "   mvar2   mvar3  mvar4  mvar5  mvar6   mvar7   mvar8    mvar9  mvar10  \\\n",
       "0      0  106920      4     18    970  0.7969  0.1831   337236       1   \n",
       "1      2       0      4     19   1030  0.0678  0.0000  2918974       1   \n",
       "2      2  399168      4     35    327  0.7551  0.2986   498656       0   \n",
       "3      0  267300      4    274   1258  0.7969  0.5297  2480074       1   \n",
       "4      0  213840      6      1      0  2.3238  0.0000  2918974       0   \n",
       "\n",
       "   mvar11         ...           Manufacturing        Mining               \\\n",
       "0  6.0899         ...                             0                    0   \n",
       "1  4.2016         ...                             0                    0   \n",
       "2  3.3760         ...                             0                    0   \n",
       "3  4.1082         ...                             0                    0   \n",
       "4  0.0000         ...                             0                    0   \n",
       "\n",
       "   Misc services        Non durable goods    Office supplies      \\\n",
       "0                    0                    0                    1   \n",
       "1                    0                    0                    0   \n",
       "2                    1                    0                    0   \n",
       "3                    0                    0                    0   \n",
       "4                    0                    0                    0   \n",
       "\n",
       "   Personal services    Produce              Social services      \\\n",
       "0                    0                    0                    0   \n",
       "1                    0                    0                    0   \n",
       "2                    0                    0                    0   \n",
       "3                    0                    0                    1   \n",
       "4                    0                    0                    0   \n",
       "\n",
       "   Transport            Unknown              \n",
       "0                    0                    0  \n",
       "1                    0                    1  \n",
       "2                    0                    0  \n",
       "3                    0                    0  \n",
       "4                    0                    1  \n",
       "\n",
       "[5 rows x 61 columns]"
      ]
     },
     "execution_count": 424,
     "metadata": {},
     "output_type": "execute_result"
    }
   ],
   "source": [
    "train.head()"
   ]
  },
  {
   "cell_type": "code",
   "execution_count": 425,
   "metadata": {},
   "outputs": [
    {
     "data": {
      "text/html": [
       "<div>\n",
       "<style>\n",
       "    .dataframe thead tr:only-child th {\n",
       "        text-align: right;\n",
       "    }\n",
       "\n",
       "    .dataframe thead th {\n",
       "        text-align: left;\n",
       "    }\n",
       "\n",
       "    .dataframe tbody tr th {\n",
       "        vertical-align: top;\n",
       "    }\n",
       "</style>\n",
       "<table border=\"1\" class=\"dataframe\">\n",
       "  <thead>\n",
       "    <tr style=\"text-align: right;\">\n",
       "      <th></th>\n",
       "      <th>mvar2</th>\n",
       "      <th>mvar3</th>\n",
       "      <th>mvar4</th>\n",
       "      <th>mvar5</th>\n",
       "      <th>mvar6</th>\n",
       "      <th>mvar7</th>\n",
       "      <th>mvar8</th>\n",
       "      <th>mvar9</th>\n",
       "      <th>mvar10</th>\n",
       "      <th>mvar11</th>\n",
       "      <th>...</th>\n",
       "      <th>Manufacturing</th>\n",
       "      <th>Mining</th>\n",
       "      <th>Misc services</th>\n",
       "      <th>Non durable goods</th>\n",
       "      <th>Office supplies</th>\n",
       "      <th>Personal services</th>\n",
       "      <th>Produce</th>\n",
       "      <th>Social services</th>\n",
       "      <th>Transport</th>\n",
       "      <th>Unknown</th>\n",
       "    </tr>\n",
       "  </thead>\n",
       "  <tbody>\n",
       "    <tr>\n",
       "      <th>0</th>\n",
       "      <td>2</td>\n",
       "      <td>0</td>\n",
       "      <td>8</td>\n",
       "      <td>52</td>\n",
       "      <td>381</td>\n",
       "      <td>0.2490</td>\n",
       "      <td>0.1155</td>\n",
       "      <td>118845</td>\n",
       "      <td>0</td>\n",
       "      <td>5.6677</td>\n",
       "      <td>...</td>\n",
       "      <td>0</td>\n",
       "      <td>0</td>\n",
       "      <td>0</td>\n",
       "      <td>0</td>\n",
       "      <td>0</td>\n",
       "      <td>0</td>\n",
       "      <td>0</td>\n",
       "      <td>0</td>\n",
       "      <td>0</td>\n",
       "      <td>0</td>\n",
       "    </tr>\n",
       "    <tr>\n",
       "      <th>1</th>\n",
       "      <td>0</td>\n",
       "      <td>53460</td>\n",
       "      <td>2</td>\n",
       "      <td>56</td>\n",
       "      <td>872</td>\n",
       "      <td>0.5192</td>\n",
       "      <td>0.2682</td>\n",
       "      <td>475380</td>\n",
       "      <td>0</td>\n",
       "      <td>4.9459</td>\n",
       "      <td>...</td>\n",
       "      <td>0</td>\n",
       "      <td>0</td>\n",
       "      <td>0</td>\n",
       "      <td>0</td>\n",
       "      <td>0</td>\n",
       "      <td>0</td>\n",
       "      <td>0</td>\n",
       "      <td>0</td>\n",
       "      <td>0</td>\n",
       "      <td>0</td>\n",
       "    </tr>\n",
       "    <tr>\n",
       "      <th>2</th>\n",
       "      <td>0</td>\n",
       "      <td>109058</td>\n",
       "      <td>4</td>\n",
       "      <td>63</td>\n",
       "      <td>1253</td>\n",
       "      <td>0.7969</td>\n",
       "      <td>0.1155</td>\n",
       "      <td>172780</td>\n",
       "      <td>0</td>\n",
       "      <td>5.8674</td>\n",
       "      <td>...</td>\n",
       "      <td>0</td>\n",
       "      <td>0</td>\n",
       "      <td>0</td>\n",
       "      <td>0</td>\n",
       "      <td>0</td>\n",
       "      <td>0</td>\n",
       "      <td>0</td>\n",
       "      <td>1</td>\n",
       "      <td>0</td>\n",
       "      <td>0</td>\n",
       "    </tr>\n",
       "    <tr>\n",
       "      <th>3</th>\n",
       "      <td>0</td>\n",
       "      <td>53460</td>\n",
       "      <td>4</td>\n",
       "      <td>44</td>\n",
       "      <td>381</td>\n",
       "      <td>0.0155</td>\n",
       "      <td>0.0000</td>\n",
       "      <td>2918974</td>\n",
       "      <td>0</td>\n",
       "      <td>1.0798</td>\n",
       "      <td>...</td>\n",
       "      <td>0</td>\n",
       "      <td>0</td>\n",
       "      <td>0</td>\n",
       "      <td>0</td>\n",
       "      <td>0</td>\n",
       "      <td>0</td>\n",
       "      <td>0</td>\n",
       "      <td>0</td>\n",
       "      <td>0</td>\n",
       "      <td>1</td>\n",
       "    </tr>\n",
       "    <tr>\n",
       "      <th>4</th>\n",
       "      <td>1</td>\n",
       "      <td>183546</td>\n",
       "      <td>5</td>\n",
       "      <td>250</td>\n",
       "      <td>1842</td>\n",
       "      <td>0.7366</td>\n",
       "      <td>0.0000</td>\n",
       "      <td>2918974</td>\n",
       "      <td>1</td>\n",
       "      <td>5.9691</td>\n",
       "      <td>...</td>\n",
       "      <td>0</td>\n",
       "      <td>0</td>\n",
       "      <td>0</td>\n",
       "      <td>0</td>\n",
       "      <td>0</td>\n",
       "      <td>0</td>\n",
       "      <td>0</td>\n",
       "      <td>0</td>\n",
       "      <td>0</td>\n",
       "      <td>0</td>\n",
       "    </tr>\n",
       "  </tbody>\n",
       "</table>\n",
       "<p>5 rows × 61 columns</p>\n",
       "</div>"
      ],
      "text/plain": [
       "   mvar2   mvar3  mvar4  mvar5  mvar6   mvar7   mvar8    mvar9  mvar10  \\\n",
       "0      2       0      8     52    381  0.2490  0.1155   118845       0   \n",
       "1      0   53460      2     56    872  0.5192  0.2682   475380       0   \n",
       "2      0  109058      4     63   1253  0.7969  0.1155   172780       0   \n",
       "3      0   53460      4     44    381  0.0155  0.0000  2918974       0   \n",
       "4      1  183546      5    250   1842  0.7366  0.0000  2918974       1   \n",
       "\n",
       "   mvar11         ...           Manufacturing        Mining               \\\n",
       "0  5.6677         ...                             0                    0   \n",
       "1  4.9459         ...                             0                    0   \n",
       "2  5.8674         ...                             0                    0   \n",
       "3  1.0798         ...                             0                    0   \n",
       "4  5.9691         ...                             0                    0   \n",
       "\n",
       "   Misc services        Non durable goods    Office supplies      \\\n",
       "0                    0                    0                    0   \n",
       "1                    0                    0                    0   \n",
       "2                    0                    0                    0   \n",
       "3                    0                    0                    0   \n",
       "4                    0                    0                    0   \n",
       "\n",
       "   Personal services    Produce              Social services      \\\n",
       "0                    0                    0                    0   \n",
       "1                    0                    0                    0   \n",
       "2                    0                    0                    1   \n",
       "3                    0                    0                    0   \n",
       "4                    0                    0                    0   \n",
       "\n",
       "   Transport            Unknown              \n",
       "0                    0                    0  \n",
       "1                    0                    0  \n",
       "2                    0                    0  \n",
       "3                    0                    1  \n",
       "4                    0                    0  \n",
       "\n",
       "[5 rows x 61 columns]"
      ]
     },
     "execution_count": 425,
     "metadata": {},
     "output_type": "execute_result"
    }
   ],
   "source": [
    "test_X.head()"
   ]
  },
  {
   "cell_type": "code",
   "execution_count": 426,
   "metadata": {
    "collapsed": true
   },
   "outputs": [],
   "source": [
    "prob49 = xgb3.predict_proba(test_X)\n"
   ]
  },
  {
   "cell_type": "code",
   "execution_count": 427,
   "metadata": {},
   "outputs": [
    {
     "data": {
      "text/plain": [
       "array([[  8.63769054e-01,   5.84338568e-02,   6.63876086e-02,\n",
       "          1.14095276e-02],\n",
       "       [  6.95815980e-01,   4.19415869e-02,   2.36241400e-01,\n",
       "          2.60010287e-02],\n",
       "       [  7.13553309e-01,   5.02478033e-02,   8.94886255e-02,\n",
       "          1.46710277e-01],\n",
       "       ..., \n",
       "       [  5.39969981e-01,   7.39667490e-02,   7.07100611e-04,\n",
       "          3.85356188e-01],\n",
       "       [  8.12244594e-01,   5.29190898e-02,   1.19088002e-01,\n",
       "          1.57482643e-02],\n",
       "       [  8.80536497e-01,   3.36189531e-02,   7.51304030e-02,\n",
       "          1.07140886e-02]], dtype=float32)"
      ]
     },
     "execution_count": 427,
     "metadata": {},
     "output_type": "execute_result"
    }
   ],
   "source": [
    "prob49"
   ]
  },
  {
   "cell_type": "code",
   "execution_count": 428,
   "metadata": {
    "collapsed": true
   },
   "outputs": [],
   "source": [
    "def prob1(value):\n",
    "    result1 = pd.DataFrame(value)\n",
    "    result2 = result1[result1.columns[0]]\n",
    "    return result2\n",
    "def prob2(value):\n",
    "    result1 = pd.DataFrame(value)\n",
    "    result2 = result1[result1.columns[1]]\n",
    "    return result2\n",
    "def prob3(value):\n",
    "    result1 = pd.DataFrame(value)\n",
    "    result2 = result1[result1.columns[2]]\n",
    "    return result2\n",
    "def prob4(value):\n",
    "    result1 = pd.DataFrame(value)\n",
    "    result2 = result1[result1.columns[3]]\n",
    "    return result2"
   ]
  },
  {
   "cell_type": "code",
   "execution_count": 429,
   "metadata": {
    "collapsed": true
   },
   "outputs": [],
   "source": [
    "mvar49 = pd.DataFrame({'mvar49':prediction})"
   ]
  },
  {
   "cell_type": "code",
   "execution_count": 430,
   "metadata": {
    "collapsed": true
   },
   "outputs": [],
   "source": [
    "prob1 = pd.DataFrame({'prob1':prob1(prob49)})\n",
    "prob2 = pd.DataFrame({'prob2':prob2(prob49)})\n",
    "prob3 = pd.DataFrame({'prob3':prob3(prob49)})\n",
    "prob4 = pd.DataFrame({'prob4':prob4(prob49)})"
   ]
  },
  {
   "cell_type": "code",
   "execution_count": 431,
   "metadata": {
    "collapsed": true
   },
   "outputs": [],
   "source": [
    "result_pred3 = pd.concat([prob1,prob2], axis=1)\n",
    "result_pred3 = pd.concat([result_pred3,prob3], axis=1)\n",
    "result_pred3 = pd.concat([result_pred3,prob4], axis=1)\n",
    "result_pred3 = pd.concat([result_pred3,mvar49], axis=1)\n"
   ]
  },
  {
   "cell_type": "code",
   "execution_count": 432,
   "metadata": {
    "collapsed": true
   },
   "outputs": [],
   "source": [
    "test_df4=test_df"
   ]
  },
  {
   "cell_type": "code",
   "execution_count": 433,
   "metadata": {
    "collapsed": true
   },
   "outputs": [],
   "source": [
    "test_df4 = pd.concat([test_df,result_pred3], axis=1)"
   ]
  },
  {
   "cell_type": "code",
   "execution_count": 434,
   "metadata": {},
   "outputs": [
    {
     "data": {
      "text/html": [
       "<div>\n",
       "<style>\n",
       "    .dataframe thead tr:only-child th {\n",
       "        text-align: right;\n",
       "    }\n",
       "\n",
       "    .dataframe thead th {\n",
       "        text-align: left;\n",
       "    }\n",
       "\n",
       "    .dataframe tbody tr th {\n",
       "        vertical-align: top;\n",
       "    }\n",
       "</style>\n",
       "<table border=\"1\" class=\"dataframe\">\n",
       "  <thead>\n",
       "    <tr style=\"text-align: right;\">\n",
       "      <th></th>\n",
       "      <th>cm_key</th>\n",
       "      <th>mvar1</th>\n",
       "      <th>mvar2</th>\n",
       "      <th>mvar3</th>\n",
       "      <th>mvar4</th>\n",
       "      <th>mvar5</th>\n",
       "      <th>mvar6</th>\n",
       "      <th>mvar7</th>\n",
       "      <th>mvar8</th>\n",
       "      <th>mvar9</th>\n",
       "      <th>...</th>\n",
       "      <th>mvar41</th>\n",
       "      <th>mvar42</th>\n",
       "      <th>mvar43</th>\n",
       "      <th>mvar44</th>\n",
       "      <th>mvar45</th>\n",
       "      <th>prob1</th>\n",
       "      <th>prob2</th>\n",
       "      <th>prob3</th>\n",
       "      <th>prob4</th>\n",
       "      <th>mvar49</th>\n",
       "    </tr>\n",
       "  </thead>\n",
       "  <tbody>\n",
       "    <tr>\n",
       "      <th>0</th>\n",
       "      <td>70001</td>\n",
       "      <td>Charge</td>\n",
       "      <td>2</td>\n",
       "      <td>0</td>\n",
       "      <td>8</td>\n",
       "      <td>52</td>\n",
       "      <td>381</td>\n",
       "      <td>0.2490</td>\n",
       "      <td>0.1155</td>\n",
       "      <td>118845</td>\n",
       "      <td>...</td>\n",
       "      <td>0</td>\n",
       "      <td>0</td>\n",
       "      <td>1</td>\n",
       "      <td>0</td>\n",
       "      <td>0</td>\n",
       "      <td>0.863769</td>\n",
       "      <td>0.058434</td>\n",
       "      <td>0.066388</td>\n",
       "      <td>0.011410</td>\n",
       "      <td>0</td>\n",
       "    </tr>\n",
       "    <tr>\n",
       "      <th>1</th>\n",
       "      <td>70002</td>\n",
       "      <td>Charge</td>\n",
       "      <td>0</td>\n",
       "      <td>53460</td>\n",
       "      <td>2</td>\n",
       "      <td>56</td>\n",
       "      <td>872</td>\n",
       "      <td>0.5192</td>\n",
       "      <td>0.2682</td>\n",
       "      <td>475380</td>\n",
       "      <td>...</td>\n",
       "      <td>0</td>\n",
       "      <td>0</td>\n",
       "      <td>0</td>\n",
       "      <td>0</td>\n",
       "      <td>0</td>\n",
       "      <td>0.695816</td>\n",
       "      <td>0.041942</td>\n",
       "      <td>0.236241</td>\n",
       "      <td>0.026001</td>\n",
       "      <td>0</td>\n",
       "    </tr>\n",
       "    <tr>\n",
       "      <th>2</th>\n",
       "      <td>70003</td>\n",
       "      <td>Charge</td>\n",
       "      <td>0</td>\n",
       "      <td>109058</td>\n",
       "      <td>4</td>\n",
       "      <td>63</td>\n",
       "      <td>1253</td>\n",
       "      <td>0.7969</td>\n",
       "      <td>0.1155</td>\n",
       "      <td>172780</td>\n",
       "      <td>...</td>\n",
       "      <td>1</td>\n",
       "      <td>0</td>\n",
       "      <td>0</td>\n",
       "      <td>0</td>\n",
       "      <td>0</td>\n",
       "      <td>0.713553</td>\n",
       "      <td>0.050248</td>\n",
       "      <td>0.089489</td>\n",
       "      <td>0.146710</td>\n",
       "      <td>0</td>\n",
       "    </tr>\n",
       "    <tr>\n",
       "      <th>3</th>\n",
       "      <td>70004</td>\n",
       "      <td>Charge</td>\n",
       "      <td>0</td>\n",
       "      <td>53460</td>\n",
       "      <td>4</td>\n",
       "      <td>44</td>\n",
       "      <td>381</td>\n",
       "      <td>0.0155</td>\n",
       "      <td>0.0000</td>\n",
       "      <td>2918974</td>\n",
       "      <td>...</td>\n",
       "      <td>0</td>\n",
       "      <td>0</td>\n",
       "      <td>0</td>\n",
       "      <td>0</td>\n",
       "      <td>0</td>\n",
       "      <td>0.888032</td>\n",
       "      <td>0.026927</td>\n",
       "      <td>0.026667</td>\n",
       "      <td>0.058374</td>\n",
       "      <td>0</td>\n",
       "    </tr>\n",
       "    <tr>\n",
       "      <th>4</th>\n",
       "      <td>70005</td>\n",
       "      <td>Charge</td>\n",
       "      <td>1</td>\n",
       "      <td>183546</td>\n",
       "      <td>5</td>\n",
       "      <td>250</td>\n",
       "      <td>1842</td>\n",
       "      <td>0.7366</td>\n",
       "      <td>0.0000</td>\n",
       "      <td>2918974</td>\n",
       "      <td>...</td>\n",
       "      <td>0</td>\n",
       "      <td>0</td>\n",
       "      <td>0</td>\n",
       "      <td>0</td>\n",
       "      <td>0</td>\n",
       "      <td>0.881114</td>\n",
       "      <td>0.075183</td>\n",
       "      <td>0.000627</td>\n",
       "      <td>0.043075</td>\n",
       "      <td>0</td>\n",
       "    </tr>\n",
       "  </tbody>\n",
       "</table>\n",
       "<p>5 rows × 51 columns</p>\n",
       "</div>"
      ],
      "text/plain": [
       "   cm_key         mvar1  mvar2   mvar3  mvar4  mvar5  mvar6   mvar7   mvar8  \\\n",
       "0   70001  Charge            2       0      8     52    381  0.2490  0.1155   \n",
       "1   70002  Charge            0   53460      2     56    872  0.5192  0.2682   \n",
       "2   70003  Charge            0  109058      4     63   1253  0.7969  0.1155   \n",
       "3   70004  Charge            0   53460      4     44    381  0.0155  0.0000   \n",
       "4   70005  Charge            1  183546      5    250   1842  0.7366  0.0000   \n",
       "\n",
       "     mvar9   ...    mvar41  mvar42 mvar43  mvar44  mvar45     prob1     prob2  \\\n",
       "0   118845   ...         0       0      1       0       0  0.863769  0.058434   \n",
       "1   475380   ...         0       0      0       0       0  0.695816  0.041942   \n",
       "2   172780   ...         1       0      0       0       0  0.713553  0.050248   \n",
       "3  2918974   ...         0       0      0       0       0  0.888032  0.026927   \n",
       "4  2918974   ...         0       0      0       0       0  0.881114  0.075183   \n",
       "\n",
       "      prob3     prob4  mvar49  \n",
       "0  0.066388  0.011410       0  \n",
       "1  0.236241  0.026001       0  \n",
       "2  0.089489  0.146710       0  \n",
       "3  0.026667  0.058374       0  \n",
       "4  0.000627  0.043075       0  \n",
       "\n",
       "[5 rows x 51 columns]"
      ]
     },
     "execution_count": 434,
     "metadata": {},
     "output_type": "execute_result"
    }
   ],
   "source": [
    "test_df4.head()"
   ]
  },
  {
   "cell_type": "code",
   "execution_count": 435,
   "metadata": {
    "collapsed": true
   },
   "outputs": [],
   "source": [
    "test_df4['max_prob'] = test_df4[['prob2','prob3','prob4']].max(axis=1)"
   ]
  },
  {
   "cell_type": "code",
   "execution_count": 436,
   "metadata": {
    "collapsed": true
   },
   "outputs": [],
   "source": [
    "conditions = [\n",
    "    (test_df4['max_prob'] == test_df4['prob2']) ,\n",
    "    (test_df4['max_prob'] == test_df4['prob3']) ,\n",
    "    (test_df4['max_prob'] == test_df4['prob4']),\n",
    "    \n",
    "]\n",
    "choices = ['Supp', 'Elite', 'Credit']\n",
    "test_df4['offer'] = np.select(conditions, choices)"
   ]
  },
  {
   "cell_type": "code",
   "execution_count": 437,
   "metadata": {},
   "outputs": [
    {
     "data": {
      "text/html": [
       "<div>\n",
       "<style>\n",
       "    .dataframe thead tr:only-child th {\n",
       "        text-align: right;\n",
       "    }\n",
       "\n",
       "    .dataframe thead th {\n",
       "        text-align: left;\n",
       "    }\n",
       "\n",
       "    .dataframe tbody tr th {\n",
       "        vertical-align: top;\n",
       "    }\n",
       "</style>\n",
       "<table border=\"1\" class=\"dataframe\">\n",
       "  <thead>\n",
       "    <tr style=\"text-align: right;\">\n",
       "      <th></th>\n",
       "      <th>cm_key</th>\n",
       "      <th>mvar1</th>\n",
       "      <th>mvar2</th>\n",
       "      <th>mvar3</th>\n",
       "      <th>mvar4</th>\n",
       "      <th>mvar5</th>\n",
       "      <th>mvar6</th>\n",
       "      <th>mvar7</th>\n",
       "      <th>mvar8</th>\n",
       "      <th>mvar9</th>\n",
       "      <th>...</th>\n",
       "      <th>mvar43</th>\n",
       "      <th>mvar44</th>\n",
       "      <th>mvar45</th>\n",
       "      <th>prob1</th>\n",
       "      <th>prob2</th>\n",
       "      <th>prob3</th>\n",
       "      <th>prob4</th>\n",
       "      <th>mvar49</th>\n",
       "      <th>max_prob</th>\n",
       "      <th>offer</th>\n",
       "    </tr>\n",
       "  </thead>\n",
       "  <tbody>\n",
       "    <tr>\n",
       "      <th>0</th>\n",
       "      <td>70001</td>\n",
       "      <td>Charge</td>\n",
       "      <td>2</td>\n",
       "      <td>0</td>\n",
       "      <td>8</td>\n",
       "      <td>52</td>\n",
       "      <td>381</td>\n",
       "      <td>0.2490</td>\n",
       "      <td>0.1155</td>\n",
       "      <td>118845</td>\n",
       "      <td>...</td>\n",
       "      <td>1</td>\n",
       "      <td>0</td>\n",
       "      <td>0</td>\n",
       "      <td>0.863769</td>\n",
       "      <td>0.058434</td>\n",
       "      <td>0.066388</td>\n",
       "      <td>0.011410</td>\n",
       "      <td>0</td>\n",
       "      <td>0.066388</td>\n",
       "      <td>Elite</td>\n",
       "    </tr>\n",
       "    <tr>\n",
       "      <th>1</th>\n",
       "      <td>70002</td>\n",
       "      <td>Charge</td>\n",
       "      <td>0</td>\n",
       "      <td>53460</td>\n",
       "      <td>2</td>\n",
       "      <td>56</td>\n",
       "      <td>872</td>\n",
       "      <td>0.5192</td>\n",
       "      <td>0.2682</td>\n",
       "      <td>475380</td>\n",
       "      <td>...</td>\n",
       "      <td>0</td>\n",
       "      <td>0</td>\n",
       "      <td>0</td>\n",
       "      <td>0.695816</td>\n",
       "      <td>0.041942</td>\n",
       "      <td>0.236241</td>\n",
       "      <td>0.026001</td>\n",
       "      <td>0</td>\n",
       "      <td>0.236241</td>\n",
       "      <td>Elite</td>\n",
       "    </tr>\n",
       "    <tr>\n",
       "      <th>2</th>\n",
       "      <td>70003</td>\n",
       "      <td>Charge</td>\n",
       "      <td>0</td>\n",
       "      <td>109058</td>\n",
       "      <td>4</td>\n",
       "      <td>63</td>\n",
       "      <td>1253</td>\n",
       "      <td>0.7969</td>\n",
       "      <td>0.1155</td>\n",
       "      <td>172780</td>\n",
       "      <td>...</td>\n",
       "      <td>0</td>\n",
       "      <td>0</td>\n",
       "      <td>0</td>\n",
       "      <td>0.713553</td>\n",
       "      <td>0.050248</td>\n",
       "      <td>0.089489</td>\n",
       "      <td>0.146710</td>\n",
       "      <td>0</td>\n",
       "      <td>0.146710</td>\n",
       "      <td>Credit</td>\n",
       "    </tr>\n",
       "    <tr>\n",
       "      <th>3</th>\n",
       "      <td>70004</td>\n",
       "      <td>Charge</td>\n",
       "      <td>0</td>\n",
       "      <td>53460</td>\n",
       "      <td>4</td>\n",
       "      <td>44</td>\n",
       "      <td>381</td>\n",
       "      <td>0.0155</td>\n",
       "      <td>0.0000</td>\n",
       "      <td>2918974</td>\n",
       "      <td>...</td>\n",
       "      <td>0</td>\n",
       "      <td>0</td>\n",
       "      <td>0</td>\n",
       "      <td>0.888032</td>\n",
       "      <td>0.026927</td>\n",
       "      <td>0.026667</td>\n",
       "      <td>0.058374</td>\n",
       "      <td>0</td>\n",
       "      <td>0.058374</td>\n",
       "      <td>Credit</td>\n",
       "    </tr>\n",
       "    <tr>\n",
       "      <th>4</th>\n",
       "      <td>70005</td>\n",
       "      <td>Charge</td>\n",
       "      <td>1</td>\n",
       "      <td>183546</td>\n",
       "      <td>5</td>\n",
       "      <td>250</td>\n",
       "      <td>1842</td>\n",
       "      <td>0.7366</td>\n",
       "      <td>0.0000</td>\n",
       "      <td>2918974</td>\n",
       "      <td>...</td>\n",
       "      <td>0</td>\n",
       "      <td>0</td>\n",
       "      <td>0</td>\n",
       "      <td>0.881114</td>\n",
       "      <td>0.075183</td>\n",
       "      <td>0.000627</td>\n",
       "      <td>0.043075</td>\n",
       "      <td>0</td>\n",
       "      <td>0.075183</td>\n",
       "      <td>Supp</td>\n",
       "    </tr>\n",
       "  </tbody>\n",
       "</table>\n",
       "<p>5 rows × 53 columns</p>\n",
       "</div>"
      ],
      "text/plain": [
       "   cm_key         mvar1  mvar2   mvar3  mvar4  mvar5  mvar6   mvar7   mvar8  \\\n",
       "0   70001  Charge            2       0      8     52    381  0.2490  0.1155   \n",
       "1   70002  Charge            0   53460      2     56    872  0.5192  0.2682   \n",
       "2   70003  Charge            0  109058      4     63   1253  0.7969  0.1155   \n",
       "3   70004  Charge            0   53460      4     44    381  0.0155  0.0000   \n",
       "4   70005  Charge            1  183546      5    250   1842  0.7366  0.0000   \n",
       "\n",
       "     mvar9   ...    mvar43  mvar44 mvar45     prob1     prob2     prob3  \\\n",
       "0   118845   ...         1       0      0  0.863769  0.058434  0.066388   \n",
       "1   475380   ...         0       0      0  0.695816  0.041942  0.236241   \n",
       "2   172780   ...         0       0      0  0.713553  0.050248  0.089489   \n",
       "3  2918974   ...         0       0      0  0.888032  0.026927  0.026667   \n",
       "4  2918974   ...         0       0      0  0.881114  0.075183  0.000627   \n",
       "\n",
       "      prob4  mvar49  max_prob   offer  \n",
       "0  0.011410       0  0.066388   Elite  \n",
       "1  0.026001       0  0.236241   Elite  \n",
       "2  0.146710       0  0.146710  Credit  \n",
       "3  0.058374       0  0.058374  Credit  \n",
       "4  0.043075       0  0.075183    Supp  \n",
       "\n",
       "[5 rows x 53 columns]"
      ]
     },
     "execution_count": 437,
     "metadata": {},
     "output_type": "execute_result"
    }
   ],
   "source": [
    "test_df4.head()"
   ]
  },
  {
   "cell_type": "code",
   "execution_count": 438,
   "metadata": {
    "collapsed": true
   },
   "outputs": [],
   "source": [
    "test_df4 = test_df4.sort_values(['max_prob'],ascending=False)"
   ]
  },
  {
   "cell_type": "code",
   "execution_count": 379,
   "metadata": {
    "collapsed": true
   },
   "outputs": [],
   "source": [
    "test_new11= test_df4[['cm_key','offer']]"
   ]
  },
  {
   "cell_type": "code",
   "execution_count": 380,
   "metadata": {
    "collapsed": true
   },
   "outputs": [],
   "source": [
    "test_new11 = test_new11[0:1000]"
   ]
  },
  {
   "cell_type": "code",
   "execution_count": 381,
   "metadata": {},
   "outputs": [
    {
     "data": {
      "text/plain": [
       "offer\n",
       "Credit    305\n",
       "Elite     306\n",
       "Supp      389\n",
       "Name: cm_key, dtype: int64"
      ]
     },
     "execution_count": 381,
     "metadata": {},
     "output_type": "execute_result"
    }
   ],
   "source": [
    "test_new11.groupby('offer')['cm_key'].nunique()"
   ]
  },
  {
   "cell_type": "code",
   "execution_count": 346,
   "metadata": {
    "collapsed": true
   },
   "outputs": [],
   "source": [
    "path=r'G:\\ '\n",
    "\n",
    "test_new11.to_csv(path+'Saddlepoints_IITRoorkee_b2.csv',header=None,index=None)"
   ]
  },
  {
   "cell_type": "code",
   "execution_count": 347,
   "metadata": {
    "collapsed": true
   },
   "outputs": [],
   "source": [
    "test_df4['diff1'] = test_df4['prob1']-test_df4['prob2']\n",
    "test_df4['diff2'] = test_df4['prob1']-test_df4['prob3']\n",
    "test_df4['diff3']=test_df4['prob1']-test_df4['prob4']"
   ]
  },
  {
   "cell_type": "code",
   "execution_count": 439,
   "metadata": {
    "collapsed": true
   },
   "outputs": [],
   "source": [
    "test_df6 = test_df4"
   ]
  },
  {
   "cell_type": "code",
   "execution_count": 440,
   "metadata": {
    "collapsed": true
   },
   "outputs": [],
   "source": [
    "test_df6['min_prob'] = test_df4[['prob2','prob3','prob4']].min(axis=1)"
   ]
  },
  {
   "cell_type": "code",
   "execution_count": 441,
   "metadata": {
    "collapsed": true
   },
   "outputs": [],
   "source": [
    "test_df6 = test_df6.sort_values(['prob1'],ascending=True)"
   ]
  },
  {
   "cell_type": "code",
   "execution_count": 442,
   "metadata": {
    "collapsed": true
   },
   "outputs": [],
   "source": [
    "test_new12= test_df6[['cm_key','offer']]"
   ]
  },
  {
   "cell_type": "code",
   "execution_count": 443,
   "metadata": {
    "collapsed": true
   },
   "outputs": [],
   "source": [
    "test_new13 = test_new12[0:1000]"
   ]
  },
  {
   "cell_type": "code",
   "execution_count": 444,
   "metadata": {},
   "outputs": [
    {
     "data": {
      "text/plain": [
       "offer\n",
       "Credit    374\n",
       "Elite     375\n",
       "Supp      251\n",
       "Name: cm_key, dtype: int64"
      ]
     },
     "execution_count": 444,
     "metadata": {},
     "output_type": "execute_result"
    }
   ],
   "source": [
    "test_new13.groupby('offer')['cm_key'].nunique()"
   ]
  },
  {
   "cell_type": "code",
   "execution_count": 445,
   "metadata": {
    "collapsed": true
   },
   "outputs": [],
   "source": [
    "path=r'G:\\ '\n",
    "\n",
    "test_new13.to_csv(path+'Saddlepoints_IITRoorkee_b2.csv',header=None,index=None)"
   ]
  },
  {
   "cell_type": "code",
   "execution_count": 446,
   "metadata": {},
   "outputs": [
    {
     "data": {
      "text/html": [
       "<div>\n",
       "<style>\n",
       "    .dataframe thead tr:only-child th {\n",
       "        text-align: right;\n",
       "    }\n",
       "\n",
       "    .dataframe thead th {\n",
       "        text-align: left;\n",
       "    }\n",
       "\n",
       "    .dataframe tbody tr th {\n",
       "        vertical-align: top;\n",
       "    }\n",
       "</style>\n",
       "<table border=\"1\" class=\"dataframe\">\n",
       "  <thead>\n",
       "    <tr style=\"text-align: right;\">\n",
       "      <th></th>\n",
       "      <th>cm_key</th>\n",
       "      <th>offer</th>\n",
       "    </tr>\n",
       "  </thead>\n",
       "  <tbody>\n",
       "    <tr>\n",
       "      <th>8716</th>\n",
       "      <td>78717</td>\n",
       "      <td>Elite</td>\n",
       "    </tr>\n",
       "    <tr>\n",
       "      <th>667</th>\n",
       "      <td>70668</td>\n",
       "      <td>Elite</td>\n",
       "    </tr>\n",
       "    <tr>\n",
       "      <th>3251</th>\n",
       "      <td>73252</td>\n",
       "      <td>Elite</td>\n",
       "    </tr>\n",
       "    <tr>\n",
       "      <th>4143</th>\n",
       "      <td>74144</td>\n",
       "      <td>Elite</td>\n",
       "    </tr>\n",
       "    <tr>\n",
       "      <th>2913</th>\n",
       "      <td>72914</td>\n",
       "      <td>Elite</td>\n",
       "    </tr>\n",
       "  </tbody>\n",
       "</table>\n",
       "</div>"
      ],
      "text/plain": [
       "      cm_key  offer\n",
       "8716   78717  Elite\n",
       "667    70668  Elite\n",
       "3251   73252  Elite\n",
       "4143   74144  Elite\n",
       "2913   72914  Elite"
      ]
     },
     "execution_count": 446,
     "metadata": {},
     "output_type": "execute_result"
    }
   ],
   "source": [
    "test_new13.head()"
   ]
  },
  {
   "cell_type": "code",
   "execution_count": null,
   "metadata": {
    "collapsed": true
   },
   "outputs": [],
   "source": []
  }
 ],
 "metadata": {
  "kernelspec": {
   "display_name": "Python 2",
   "language": "python",
   "name": "python2"
  },
  "language_info": {
   "codemirror_mode": {
    "name": "ipython",
    "version": 2
   },
   "file_extension": ".py",
   "mimetype": "text/x-python",
   "name": "python",
   "nbconvert_exporter": "python",
   "pygments_lexer": "ipython2",
   "version": "2.7.12"
  }
 },
 "nbformat": 4,
 "nbformat_minor": 2
}
